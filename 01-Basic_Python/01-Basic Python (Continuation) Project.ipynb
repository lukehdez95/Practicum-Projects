{
 "cells": [
  {
   "cell_type": "markdown",
   "metadata": {
    "id": "VUC88oWjTJw2"
   },
   "source": [
    "## Introduction:\n",
    "In this project, we'll compare the music preferences of the cities of Springfield and Shelbyville. We'll look at yandex music data to test the specific hypotheses and compare user behavior for these two cities.\n",
    "\n",
    "### Hypotheses: \n",
    "1. User activity differs depending on the day of the week and from city to city. \n",
    "2. On Monday mornings, Springfield and Shelbyville residents listen to different genres. This is also true for Friday evenings. \n",
    "3. Springfield and Shelbyville listeners have different preferences. In Springfield, they prefer pop, while Shelbyville has more rap fans.\n",
    "\n",
    "### Stages:\n",
    "This project will consist of three stages:\n",
    " 1. Data overview - evaluate the quality of the data\n",
    " 2. Data preprocessing - address the issues and account for them\n",
    " 3. Testing the hypotheses - analyze the data and come to a conclusion about the hypotheses"
   ]
  },
  {
   "cell_type": "markdown",
   "metadata": {
    "id": "Ml1hmfXC_Zcs"
   },
   "source": [
    "## Data overview\n",
    "**Objective:** Evaluate quality of the data"
   ]
  },
  {
   "cell_type": "code",
   "execution_count": 1,
   "metadata": {
    "id": "AXN7PHPN_Zcs"
   },
   "outputs": [],
   "source": [
    "import pandas as pd\n",
    "\n",
    "# importing pandas"
   ]
  },
  {
   "cell_type": "code",
   "execution_count": 2,
   "metadata": {
    "id": "fFVu7vqh_Zct"
   },
   "outputs": [],
   "source": [
    "try:\n",
    "    music_df = pd.read_csv('music_project_en.csv')\n",
    "except:\n",
    "    music_df = pd.read_csv('/datasets/music_project_en.csv')\n",
    "    \n",
    "# reading the file and storing it to music_df"
   ]
  },
  {
   "cell_type": "code",
   "execution_count": 3,
   "metadata": {
    "id": "oWTVX3gW_Zct"
   },
   "outputs": [
    {
     "data": {
      "text/html": [
       "<div>\n",
       "<style scoped>\n",
       "    .dataframe tbody tr th:only-of-type {\n",
       "        vertical-align: middle;\n",
       "    }\n",
       "\n",
       "    .dataframe tbody tr th {\n",
       "        vertical-align: top;\n",
       "    }\n",
       "\n",
       "    .dataframe thead th {\n",
       "        text-align: right;\n",
       "    }\n",
       "</style>\n",
       "<table border=\"1\" class=\"dataframe\">\n",
       "  <thead>\n",
       "    <tr style=\"text-align: right;\">\n",
       "      <th></th>\n",
       "      <th>userID</th>\n",
       "      <th>Track</th>\n",
       "      <th>artist</th>\n",
       "      <th>genre</th>\n",
       "      <th>City</th>\n",
       "      <th>time</th>\n",
       "      <th>Day</th>\n",
       "    </tr>\n",
       "  </thead>\n",
       "  <tbody>\n",
       "    <tr>\n",
       "      <th>0</th>\n",
       "      <td>FFB692EC</td>\n",
       "      <td>Kamigata To Boots</td>\n",
       "      <td>The Mass Missile</td>\n",
       "      <td>rock</td>\n",
       "      <td>Shelbyville</td>\n",
       "      <td>20:28:33</td>\n",
       "      <td>Wednesday</td>\n",
       "    </tr>\n",
       "    <tr>\n",
       "      <th>1</th>\n",
       "      <td>55204538</td>\n",
       "      <td>Delayed Because of Accident</td>\n",
       "      <td>Andreas Rönnberg</td>\n",
       "      <td>rock</td>\n",
       "      <td>Springfield</td>\n",
       "      <td>14:07:09</td>\n",
       "      <td>Friday</td>\n",
       "    </tr>\n",
       "    <tr>\n",
       "      <th>2</th>\n",
       "      <td>20EC38</td>\n",
       "      <td>Funiculì funiculà</td>\n",
       "      <td>Mario Lanza</td>\n",
       "      <td>pop</td>\n",
       "      <td>Shelbyville</td>\n",
       "      <td>20:58:07</td>\n",
       "      <td>Wednesday</td>\n",
       "    </tr>\n",
       "    <tr>\n",
       "      <th>3</th>\n",
       "      <td>A3DD03C9</td>\n",
       "      <td>Dragons in the Sunset</td>\n",
       "      <td>Fire + Ice</td>\n",
       "      <td>folk</td>\n",
       "      <td>Shelbyville</td>\n",
       "      <td>08:37:09</td>\n",
       "      <td>Monday</td>\n",
       "    </tr>\n",
       "    <tr>\n",
       "      <th>4</th>\n",
       "      <td>E2DC1FAE</td>\n",
       "      <td>Soul People</td>\n",
       "      <td>Space Echo</td>\n",
       "      <td>dance</td>\n",
       "      <td>Springfield</td>\n",
       "      <td>08:34:34</td>\n",
       "      <td>Monday</td>\n",
       "    </tr>\n",
       "    <tr>\n",
       "      <th>5</th>\n",
       "      <td>842029A1</td>\n",
       "      <td>Chains</td>\n",
       "      <td>Obladaet</td>\n",
       "      <td>rusrap</td>\n",
       "      <td>Shelbyville</td>\n",
       "      <td>13:09:41</td>\n",
       "      <td>Friday</td>\n",
       "    </tr>\n",
       "    <tr>\n",
       "      <th>6</th>\n",
       "      <td>4CB90AA5</td>\n",
       "      <td>True</td>\n",
       "      <td>Roman Messer</td>\n",
       "      <td>dance</td>\n",
       "      <td>Springfield</td>\n",
       "      <td>13:00:07</td>\n",
       "      <td>Wednesday</td>\n",
       "    </tr>\n",
       "    <tr>\n",
       "      <th>7</th>\n",
       "      <td>F03E1C1F</td>\n",
       "      <td>Feeling This Way</td>\n",
       "      <td>Polina Griffith</td>\n",
       "      <td>dance</td>\n",
       "      <td>Springfield</td>\n",
       "      <td>20:47:49</td>\n",
       "      <td>Wednesday</td>\n",
       "    </tr>\n",
       "    <tr>\n",
       "      <th>8</th>\n",
       "      <td>8FA1D3BE</td>\n",
       "      <td>L’estate</td>\n",
       "      <td>Julia Dalia</td>\n",
       "      <td>ruspop</td>\n",
       "      <td>Springfield</td>\n",
       "      <td>09:17:40</td>\n",
       "      <td>Friday</td>\n",
       "    </tr>\n",
       "    <tr>\n",
       "      <th>9</th>\n",
       "      <td>E772D5C0</td>\n",
       "      <td>Pessimist</td>\n",
       "      <td>NaN</td>\n",
       "      <td>dance</td>\n",
       "      <td>Shelbyville</td>\n",
       "      <td>21:20:49</td>\n",
       "      <td>Wednesday</td>\n",
       "    </tr>\n",
       "  </tbody>\n",
       "</table>\n",
       "</div>"
      ],
      "text/plain": [
       "     userID                        Track            artist   genre  \\\n",
       "0  FFB692EC            Kamigata To Boots  The Mass Missile    rock   \n",
       "1  55204538  Delayed Because of Accident  Andreas Rönnberg    rock   \n",
       "2    20EC38            Funiculì funiculà       Mario Lanza     pop   \n",
       "3  A3DD03C9        Dragons in the Sunset        Fire + Ice    folk   \n",
       "4  E2DC1FAE                  Soul People        Space Echo   dance   \n",
       "5  842029A1                       Chains          Obladaet  rusrap   \n",
       "6  4CB90AA5                         True      Roman Messer   dance   \n",
       "7  F03E1C1F             Feeling This Way   Polina Griffith   dance   \n",
       "8  8FA1D3BE                     L’estate       Julia Dalia  ruspop   \n",
       "9  E772D5C0                    Pessimist               NaN   dance   \n",
       "\n",
       "        City        time        Day  \n",
       "0  Shelbyville  20:28:33  Wednesday  \n",
       "1  Springfield  14:07:09     Friday  \n",
       "2  Shelbyville  20:58:07  Wednesday  \n",
       "3  Shelbyville  08:37:09     Monday  \n",
       "4  Springfield  08:34:34     Monday  \n",
       "5  Shelbyville  13:09:41     Friday  \n",
       "6  Springfield  13:00:07  Wednesday  \n",
       "7  Springfield  20:47:49  Wednesday  \n",
       "8  Springfield  09:17:40     Friday  \n",
       "9  Shelbyville  21:20:49  Wednesday  "
      ]
     },
     "execution_count": 3,
     "metadata": {},
     "output_type": "execute_result"
    }
   ],
   "source": [
    "music_df.head(10)\n",
    "\n",
    "# obtaining the first 10 rows from the music_df table, inspecting it"
   ]
  },
  {
   "cell_type": "code",
   "execution_count": 4,
   "metadata": {
    "id": "DSf2kIb-_Zct"
   },
   "outputs": [
    {
     "name": "stdout",
     "output_type": "stream",
     "text": [
      "<class 'pandas.core.frame.DataFrame'>\n",
      "RangeIndex: 65079 entries, 0 to 65078\n",
      "Data columns (total 7 columns):\n",
      " #   Column    Non-Null Count  Dtype \n",
      "---  ------    --------------  ----- \n",
      " 0     userID  65079 non-null  object\n",
      " 1   Track     63736 non-null  object\n",
      " 2   artist    57512 non-null  object\n",
      " 3   genre     63881 non-null  object\n",
      " 4     City    65079 non-null  object\n",
      " 5   time      65079 non-null  object\n",
      " 6   Day       65079 non-null  object\n",
      "dtypes: object(7)\n",
      "memory usage: 3.5+ MB\n"
     ]
    }
   ],
   "source": [
    "music_df.info()\n",
    "\n",
    "# obtaining general information about the data in music_df"
   ]
  },
  {
   "cell_type": "markdown",
   "metadata": {
    "id": "TaQ2Iwbr_Zct"
   },
   "source": [
    "The table contains seven columns.\n",
    "\n",
    "According to the documentation:\n",
    "- `'userID'` — user identifier\n",
    "- `'Track'` — track title\n",
    "- `'artist'` — artist's name\n",
    "- `'genre'` — genre of the track\n",
    "- `'City'` — user's city\n",
    "- `'time'` — the exact time the track was played\n",
    "- `'Day'` — day of the week\n",
    "\n",
    "We can see there are some issues:\n",
    "1. Some names are uppercase, some are lowercase.\n",
    "2. There are spaces in some names.\n",
    "3. The track, artist, and genre columns appear to have some missing values."
   ]
  },
  {
   "cell_type": "markdown",
   "metadata": {
    "id": "MCB6-dXG_Zct"
   },
   "source": [
    "Each row in the table stores data on a track that was played. Some columns describe the track itself: its title, artist and genre. The rest convey information about the user: the city they come from, the time they played the track. \n",
    "\n",
    "It's clear that the data is sufficient to test the hypotheses. However, there are missing values.\n",
    "\n",
    "To move forward, we need to preprocess the data."
   ]
  },
  {
   "cell_type": "markdown",
   "metadata": {
    "id": "SjYF6Ub9_Zct"
   },
   "source": [
    "## Data preprocessing\n",
    "**Objectives:**\n",
    "1. Correct style errors in column titles\n",
    "2. Deal with missing values\n",
    "3. Check whether there are duplicates"
   ]
  },
  {
   "cell_type": "markdown",
   "metadata": {
    "id": "dIaKXr29_Zct"
   },
   "source": [
    "### Column Titles"
   ]
  },
  {
   "cell_type": "code",
   "execution_count": 5,
   "metadata": {
    "id": "oKOTdF_Q_Zct"
   },
   "outputs": [
    {
     "data": {
      "text/plain": [
       "Index(['  userID', 'Track', 'artist', 'genre', '  City  ', 'time', 'Day'], dtype='object')"
      ]
     },
     "execution_count": 5,
     "metadata": {},
     "output_type": "execute_result"
    }
   ],
   "source": [
    "music_df.columns\n",
    "\n",
    "# a list of column names in the music_df table"
   ]
  },
  {
   "cell_type": "code",
   "execution_count": 6,
   "metadata": {
    "id": "ISlFqs5y_Zct"
   },
   "outputs": [],
   "source": [
    "music_df.rename(columns={'  userID':'userid',\n",
    "                   'Track':'track',\n",
    "                   '  City  ':'city',\n",
    "                   'Day':'day'},inplace=True)\n",
    "\n",
    "# renaming columns"
   ]
  },
  {
   "cell_type": "code",
   "execution_count": 7,
   "metadata": {
    "id": "d4NOAmTW_Zct"
   },
   "outputs": [
    {
     "data": {
      "text/plain": [
       "Index(['userid', 'track', 'artist', 'genre', 'city', 'time', 'day'], dtype='object')"
      ]
     },
     "execution_count": 7,
     "metadata": {},
     "output_type": "execute_result"
    }
   ],
   "source": [
    "music_df.columns\n",
    "\n",
    "# checking result: the list of column names"
   ]
  },
  {
   "cell_type": "markdown",
   "metadata": {
    "id": "5ISfbcfY_Zct"
   },
   "source": [
    "### Missing values"
   ]
  },
  {
   "cell_type": "code",
   "execution_count": 8,
   "metadata": {
    "id": "RskX29qr_Zct"
   },
   "outputs": [
    {
     "data": {
      "text/plain": [
       "userid       0\n",
       "track     1343\n",
       "artist    7567\n",
       "genre     1198\n",
       "city         0\n",
       "time         0\n",
       "day          0\n",
       "dtype: int64"
      ]
     },
     "execution_count": 8,
     "metadata": {},
     "output_type": "execute_result"
    }
   ],
   "source": [
    "music_df.isna().sum()\n",
    "# calculating number of missing values"
   ]
  },
  {
   "cell_type": "markdown",
   "metadata": {
    "id": "qubhgnlO_Zct"
   },
   "source": [
    "Not all missing values are created equal. For example, the missing values in `track` and `artist` are not critical, and can be filled with values that denote why this data is missing, or the fact that this data is missing.\n",
    "\n",
    "But missing values in `'genre'` may affect the comparison of music preferences in Springfield and Shelbyville. Regardless, we will fill these missing values with 'unknown' to denote that the data was missing.\n",
    "\n",
    "We will:\n",
    "* Fill in these missing values in 'track' 'artist' and 'genre' with 'unknown' \n",
    "* Evaluate how much the missing values may affect your computations"
   ]
  },
  {
   "cell_type": "code",
   "execution_count": 9,
   "metadata": {
    "id": "KplB5qWs_Zct"
   },
   "outputs": [],
   "source": [
    "columns_to_replace = ['track', 'artist', 'genre']\n",
    "for col in columns_to_replace:\n",
    "    music_df[col] = music_df[col].fillna('unknown')\n",
    "    \n",
    "# looping over column names and replacing missing values with 'unknown'"
   ]
  },
  {
   "cell_type": "code",
   "execution_count": 10,
   "metadata": {
    "id": "Tq4nYRX4_Zct"
   },
   "outputs": [
    {
     "data": {
      "text/plain": [
       "userid    0\n",
       "track     0\n",
       "artist    0\n",
       "genre     0\n",
       "city      0\n",
       "time      0\n",
       "day       0\n",
       "dtype: int64"
      ]
     },
     "execution_count": 10,
     "metadata": {},
     "output_type": "execute_result"
    }
   ],
   "source": [
    "music_df.isna().sum()\n",
    "\n",
    "# counting missing values, ensuring none remain"
   ]
  },
  {
   "cell_type": "markdown",
   "metadata": {
    "id": "BWKRtBJ3_Zct"
   },
   "source": [
    "### Duplicates"
   ]
  },
  {
   "cell_type": "code",
   "execution_count": 11,
   "metadata": {
    "id": "36eES_S0_Zct"
   },
   "outputs": [
    {
     "data": {
      "text/plain": [
       "3826"
      ]
     },
     "execution_count": 11,
     "metadata": {},
     "output_type": "execute_result"
    }
   ],
   "source": [
    "music_df.duplicated().sum()\n",
    "\n",
    "# counting clear duplicates"
   ]
  },
  {
   "cell_type": "code",
   "execution_count": 12,
   "metadata": {
    "id": "exFHq6tt_Zct"
   },
   "outputs": [],
   "source": [
    "music_df.drop_duplicates(inplace=True)\n",
    "music_df.reset_index(drop=True,inplace=True)\n",
    "\n",
    "# removing duplicates, thern resetting the index, without saving the old indexes"
   ]
  },
  {
   "cell_type": "code",
   "execution_count": 13,
   "metadata": {
    "id": "-8PuNWQ0_Zct",
    "scrolled": true
   },
   "outputs": [
    {
     "data": {
      "text/plain": [
       "0"
      ]
     },
     "execution_count": 13,
     "metadata": {},
     "output_type": "execute_result"
    }
   ],
   "source": [
    "music_df.duplicated().sum()\n",
    "\n",
    "# checking for duplicates, ensuring none remain"
   ]
  },
  {
   "cell_type": "markdown",
   "metadata": {},
   "source": [
    "### Other Troublesome Values"
   ]
  },
  {
   "cell_type": "code",
   "execution_count": 15,
   "metadata": {
    "id": "JIUcqzZN_Zct"
   },
   "outputs": [
    {
     "data": {
      "text/plain": [
       "array(['acid', 'acoustic', 'action', 'adult', 'africa', 'afrikaans',\n",
       "       'alternative', 'ambient', 'americana', 'animated', 'anime',\n",
       "       'arabesk', 'arabic', 'arena', 'argentinetango', 'art', 'audiobook',\n",
       "       'avantgarde', 'axé', 'baile', 'balkan', 'beats', 'bigroom',\n",
       "       'black', 'bluegrass', 'blues', 'bollywood', 'bossa', 'brazilian',\n",
       "       'breakbeat', 'breaks', 'broadway', 'cantautori', 'cantopop',\n",
       "       'canzone', 'caribbean', 'caucasian', 'celtic', 'chamber',\n",
       "       'children', 'chill', 'chinese', 'choral', 'christian', 'christmas',\n",
       "       'classical', 'classicmetal', 'club', 'colombian', 'comedy',\n",
       "       'conjazz', 'contemporary', 'country', 'cuban', 'dance',\n",
       "       'dancehall', 'dancepop', 'dark', 'death', 'deep', 'deutschrock',\n",
       "       'deutschspr', 'dirty', 'disco', 'dnb', 'documentary', 'downbeat',\n",
       "       'downtempo', 'drum', 'dub', 'dubstep', 'eastern', 'easy',\n",
       "       'electronic', 'electropop', 'emo', 'entehno', 'epicmetal',\n",
       "       'estrada', 'ethnic', 'eurofolk', 'european', 'experimental',\n",
       "       'extrememetal', 'fado', 'film', 'fitness', 'flamenco', 'folk',\n",
       "       'folklore', 'folkmetal', 'folkrock', 'folktronica', 'forró',\n",
       "       'frankreich', 'französisch', 'french', 'funk', 'future', 'gangsta',\n",
       "       'garage', 'german', 'ghazal', 'gitarre', 'glitch', 'gospel',\n",
       "       'gothic', 'grime', 'grunge', 'gypsy', 'handsup', \"hard'n'heavy\",\n",
       "       'hardcore', 'hardstyle', 'hardtechno', 'hip', 'hip-hop', 'hiphop',\n",
       "       'historisch', 'holiday', 'hop', 'horror', 'house', 'idm',\n",
       "       'independent', 'indian', 'indie', 'indipop', 'industrial',\n",
       "       'inspirational', 'instrumental', 'international', 'irish', 'jam',\n",
       "       'japanese', 'jazz', 'jewish', 'jpop', 'jungle', 'k-pop',\n",
       "       'karadeniz', 'karaoke', 'kayokyoku', 'korean', 'laiko', 'latin',\n",
       "       'latino', 'leftfield', 'local', 'lounge', 'loungeelectronic',\n",
       "       'lovers', 'malaysian', 'mandopop', 'marschmusik', 'meditative',\n",
       "       'mediterranean', 'melodic', 'metal', 'metalcore', 'mexican',\n",
       "       'middle', 'minimal', 'miscellaneous', 'modern', 'mood', 'mpb',\n",
       "       'muslim', 'native', 'neoklassik', 'neue', 'new', 'newage',\n",
       "       'newwave', 'nu', 'nujazz', 'numetal', 'oceania', 'old', 'opera',\n",
       "       'orchestral', 'other', 'piano', 'pop', 'popelectronic',\n",
       "       'popeurodance', 'post', 'posthardcore', 'postrock', 'power',\n",
       "       'progmetal', 'progressive', 'psychedelic', 'punjabi', 'punk',\n",
       "       'quebecois', 'ragga', 'ram', 'rancheras', 'rap', 'rave', 'reggae',\n",
       "       'reggaeton', 'regional', 'relax', 'religious', 'retro', 'rhythm',\n",
       "       'rnb', 'rnr', 'rock', 'rockabilly', 'romance', 'roots', 'ruspop',\n",
       "       'rusrap', 'rusrock', 'salsa', 'samba', 'schlager', 'self',\n",
       "       'sertanejo', 'shoegazing', 'showtunes', 'singer', 'ska', 'slow',\n",
       "       'smooth', 'soul', 'soulful', 'sound', 'soundtrack', 'southern',\n",
       "       'specialty', 'speech', 'spiritual', 'sport', 'stonerrock', 'surf',\n",
       "       'swing', 'synthpop', 'sängerportrait', 'tango', 'tanzorchester',\n",
       "       'taraftar', 'tech', 'techno', 'thrash', 'top', 'traditional',\n",
       "       'tradjazz', 'trance', 'tribal', 'trip', 'triphop', 'tropical',\n",
       "       'türk', 'türkçe', 'unknown', 'urban', 'uzbek', 'variété', 'vi',\n",
       "       'videogame', 'vocal', 'western', 'world', 'worldbeat', 'ïîï'],\n",
       "      dtype=object)"
      ]
     },
     "execution_count": 15,
     "metadata": {},
     "output_type": "execute_result"
    }
   ],
   "source": [
    "music_df['genre'].sort_values().unique()\n",
    "\n",
    "# viewing unique genre names"
   ]
  },
  {
   "cell_type": "markdown",
   "metadata": {
    "id": "qej-Qmuo_Zct"
   },
   "source": [
    "Looking through the list, we notice that there are some genres that have duplicates, but are spelled slightly different:\n",
    "* `hip`\n",
    "* `hop`\n",
    "* `hip-hop`\n",
    "All should be the same as the genre 'hiphop'. We will make a function to correct these values"
   ]
  },
  {
   "cell_type": "code",
   "execution_count": 16,
   "metadata": {
    "id": "ErNDkmns_Zct"
   },
   "outputs": [],
   "source": [
    "def replace_wrong_genres(wrong_genres, correct_genre):\n",
    "    '''\n",
    "    Replaces specified genres with another designated genre in the \"df\" dataframe.\n",
    "    \n",
    "    Parameters:\n",
    "    wrong_genres (str or list of str): The genre or genres that you would like to replace.\n",
    "    correct_genre (str): The genre that you would like to replace the wrong genre with.\n",
    "    \n",
    "    Output:\n",
    "    Replaces the incorrect genre spellings specified in the wrong_genres parameters with the \n",
    "    correct_genre parameter, in the music_df dataframe.\n",
    "    '''\n",
    "    music_df.replace(wrong_genres, correct_genre,inplace=True)\n",
    "\n",
    "# function for replacing implicit duplicates"
   ]
  },
  {
   "cell_type": "code",
   "execution_count": 17,
   "metadata": {
    "id": "YN5i2hpmSo09"
   },
   "outputs": [],
   "source": [
    "replace_wrong_genres(['hip','hop','hip-hop'],'hiphop')\n",
    "\n",
    "# removing implicit duplicates"
   ]
  },
  {
   "cell_type": "code",
   "execution_count": 18,
   "metadata": {
    "id": "wvixALnFG15m"
   },
   "outputs": [
    {
     "data": {
      "text/plain": [
       "array(['acid', 'acoustic', 'action', 'adult', 'africa', 'afrikaans',\n",
       "       'alternative', 'ambient', 'americana', 'animated', 'anime',\n",
       "       'arabesk', 'arabic', 'arena', 'argentinetango', 'art', 'audiobook',\n",
       "       'avantgarde', 'axé', 'baile', 'balkan', 'beats', 'bigroom',\n",
       "       'black', 'bluegrass', 'blues', 'bollywood', 'bossa', 'brazilian',\n",
       "       'breakbeat', 'breaks', 'broadway', 'cantautori', 'cantopop',\n",
       "       'canzone', 'caribbean', 'caucasian', 'celtic', 'chamber',\n",
       "       'children', 'chill', 'chinese', 'choral', 'christian', 'christmas',\n",
       "       'classical', 'classicmetal', 'club', 'colombian', 'comedy',\n",
       "       'conjazz', 'contemporary', 'country', 'cuban', 'dance',\n",
       "       'dancehall', 'dancepop', 'dark', 'death', 'deep', 'deutschrock',\n",
       "       'deutschspr', 'dirty', 'disco', 'dnb', 'documentary', 'downbeat',\n",
       "       'downtempo', 'drum', 'dub', 'dubstep', 'eastern', 'easy',\n",
       "       'electronic', 'electropop', 'emo', 'entehno', 'epicmetal',\n",
       "       'estrada', 'ethnic', 'eurofolk', 'european', 'experimental',\n",
       "       'extrememetal', 'fado', 'film', 'fitness', 'flamenco', 'folk',\n",
       "       'folklore', 'folkmetal', 'folkrock', 'folktronica', 'forró',\n",
       "       'frankreich', 'französisch', 'french', 'funk', 'future', 'gangsta',\n",
       "       'garage', 'german', 'ghazal', 'gitarre', 'glitch', 'gospel',\n",
       "       'gothic', 'grime', 'grunge', 'gypsy', 'handsup', \"hard'n'heavy\",\n",
       "       'hardcore', 'hardstyle', 'hardtechno', 'hiphop', 'historisch',\n",
       "       'holiday', 'horror', 'house', 'idm', 'independent', 'indian',\n",
       "       'indie', 'indipop', 'industrial', 'inspirational', 'instrumental',\n",
       "       'international', 'irish', 'jam', 'japanese', 'jazz', 'jewish',\n",
       "       'jpop', 'jungle', 'k-pop', 'karadeniz', 'karaoke', 'kayokyoku',\n",
       "       'korean', 'laiko', 'latin', 'latino', 'leftfield', 'local',\n",
       "       'lounge', 'loungeelectronic', 'lovers', 'malaysian', 'mandopop',\n",
       "       'marschmusik', 'meditative', 'mediterranean', 'melodic', 'metal',\n",
       "       'metalcore', 'mexican', 'middle', 'minimal', 'miscellaneous',\n",
       "       'modern', 'mood', 'mpb', 'muslim', 'native', 'neoklassik', 'neue',\n",
       "       'new', 'newage', 'newwave', 'nu', 'nujazz', 'numetal', 'oceania',\n",
       "       'old', 'opera', 'orchestral', 'other', 'piano', 'pop',\n",
       "       'popelectronic', 'popeurodance', 'post', 'posthardcore',\n",
       "       'postrock', 'power', 'progmetal', 'progressive', 'psychedelic',\n",
       "       'punjabi', 'punk', 'quebecois', 'ragga', 'ram', 'rancheras', 'rap',\n",
       "       'rave', 'reggae', 'reggaeton', 'regional', 'relax', 'religious',\n",
       "       'retro', 'rhythm', 'rnb', 'rnr', 'rock', 'rockabilly', 'romance',\n",
       "       'roots', 'ruspop', 'rusrap', 'rusrock', 'salsa', 'samba',\n",
       "       'schlager', 'self', 'sertanejo', 'shoegazing', 'showtunes',\n",
       "       'singer', 'ska', 'slow', 'smooth', 'soul', 'soulful', 'sound',\n",
       "       'soundtrack', 'southern', 'specialty', 'speech', 'spiritual',\n",
       "       'sport', 'stonerrock', 'surf', 'swing', 'synthpop',\n",
       "       'sängerportrait', 'tango', 'tanzorchester', 'taraftar', 'tech',\n",
       "       'techno', 'thrash', 'top', 'traditional', 'tradjazz', 'trance',\n",
       "       'tribal', 'trip', 'triphop', 'tropical', 'türk', 'türkçe',\n",
       "       'unknown', 'urban', 'uzbek', 'variété', 'vi', 'videogame', 'vocal',\n",
       "       'western', 'world', 'worldbeat', 'ïîï'], dtype=object)"
      ]
     },
     "execution_count": 18,
     "metadata": {},
     "output_type": "execute_result"
    }
   ],
   "source": [
    "music_df['genre'].sort_values().unique()\n",
    "\n",
    "# checking that changes persisted"
   ]
  },
  {
   "cell_type": "markdown",
   "metadata": {
    "id": "jz6a9-7HQUDd"
   },
   "source": [
    "### So far...\n",
    "We detected three issues with the data:\n",
    "\n",
    "- Incorrect header styles\n",
    "- Missing values\n",
    "- Obvious and implicit duplicates\n",
    "\n",
    "The headers have been cleaned up to make processing the table simpler.\n",
    "\n",
    "All missing values have been replaced with `'unknown'`. But we still have to see whether the missing values in `'genre'` will affect our calculations.\n",
    "\n",
    "The absence of duplicates will make the results more precise and easier to understand.\n",
    "\n",
    "Now we can move on to testing hypotheses. "
   ]
  },
  {
   "cell_type": "markdown",
   "metadata": {
    "id": "WttZHXH0SqKk"
   },
   "source": [
    "## Testing hypotheses"
   ]
  },
  {
   "cell_type": "markdown",
   "metadata": {
    "id": "Im936VVi_Zcu"
   },
   "source": [
    "### Hypothesis 1: comparing user behavior in two cities <a id='activity'></a>"
   ]
  },
  {
   "cell_type": "markdown",
   "metadata": {
    "id": "nwt_MuaL_Zcu"
   },
   "source": [
    "According to the first hypothesis, users from Springfield and Shelbyville listen to music differently. We will test this using the data on three days of the week: Monday, Wednesday, and Friday.\n",
    "\n",
    "* Divide the users into groups by city.\n",
    "* Compare how many tracks each group played on Monday, Wednesday, and Friday.\n"
   ]
  },
  {
   "cell_type": "code",
   "execution_count": 19,
   "metadata": {
    "id": "0_Qs96oh_Zcu"
   },
   "outputs": [
    {
     "name": "stdout",
     "output_type": "stream",
     "text": [
      "Springfield has more songs played than Shelbyville\n"
     ]
    }
   ],
   "source": [
    "springfield_df = music_df[music_df['city'] == 'Springfield'] #dataframe split for springfield \n",
    "shelbyville_df = music_df[music_df['city'] == 'Shelbyville'] #dataframe split for shelbyville\n",
    "\n",
    "springfield_songs = springfield_df.shape[0] #counting tracks played in springfield, saved to springfield_songs variable\n",
    "shelbyville_songs = shelbyville_df.shape[0] #counting tracks played in shelbyville, saved to shelbyville_songs variable\n",
    "\n",
    "if springfield_songs > shelbyville_songs:\n",
    "    print('Springfield has more songs played than Shelbyville')\n",
    "elif springfield_songs < shelbyville_songs:\n",
    "    print('Shelbyville has more songs played than Springfield')\n",
    "else:\n",
    "    print('Springfield and Shelbyville users have played the same number of songs, wow!')\n",
    "\n",
    "#if-else statement displaying which city has the most songs played according to the music_df dataset"
   ]
  },
  {
   "cell_type": "markdown",
   "metadata": {
    "id": "dzli3w8o_Zcu"
   },
   "source": [
    "Springfield has more tracks played than Shelbyville. But that does not imply that citizens of Springfield listen to music more often. This city can simply be bigger, and this data may be reflectant of a city with more users."
   ]
  },
  {
   "cell_type": "code",
   "execution_count": 20,
   "metadata": {
    "id": "uZMKjiJz_Zcu"
   },
   "outputs": [
    {
     "name": "stdout",
     "output_type": "stream",
     "text": [
      "Songs played on Monday: 21354\n",
      "Songs played on Wednesday: 18059\n",
      "Songs played on Friday: 21840\n"
     ]
    }
   ],
   "source": [
    "mon_df = music_df[music_df['day'] == 'Monday'] #separate dataframe for each day\n",
    "wed_df = music_df[music_df['day'] == 'Wednesday'] #separate dataframe for each day\n",
    "fri_df = music_df[music_df['day'] == 'Friday'] #separate dataframe for each day\n",
    "\n",
    "mon_songs = mon_df.shape[0] #finding the number of songs played for each day\n",
    "wed_songs = wed_df.shape[0] #finding the number of songs played for each day\n",
    "fri_songs = fri_df.shape[0] #finding the number of songs played for each day\n",
    "\n",
    "print('Songs played on Monday:', mon_songs) #printing the number of songs played for each day.\n",
    "print('Songs played on Wednesday:', wed_songs) #printing the number of songs played for each day.\n",
    "print('Songs played on Friday:', fri_songs) #printing the number of songs played for each day."
   ]
  },
  {
   "cell_type": "markdown",
   "metadata": {
    "id": "cC2tNrlL_Zcu"
   },
   "source": [
    "Wednesday is the quietest day overall. But if we consider the two cities separately, we might come to a different conclusion."
   ]
  },
  {
   "cell_type": "markdown",
   "metadata": {
    "id": "POzs8bGa_Zcu"
   },
   "source": [
    "Now we will create a function that can group by both city and/or day."
   ]
  },
  {
   "cell_type": "code",
   "execution_count": 21,
   "metadata": {
    "id": "Nz3GdQB1_Zcu"
   },
   "outputs": [
    {
     "data": {
      "text/plain": [
       "15945"
      ]
     },
     "execution_count": 21,
     "metadata": {},
     "output_type": "execute_result"
    }
   ],
   "source": [
    "def number_tracks(day, city):\n",
    "    '''\n",
    "    Returns number of tracks played in the day and city specified, from the \"music_df\" dataframe.\n",
    "    \n",
    "    Parameters:\n",
    "    day (str): The day you want to look into specifically. Accepts \"Monday\", \"Wednesday\", or \"Friday\"\n",
    "    city (str): The city you want to look into specifically. Accepts \"Springfield\" or \"Shelbyville\"\n",
    "    \n",
    "    Returns:\n",
    "    (int): Number of tracks played in specified city on the specified day.\n",
    "    '''\n",
    "    track_list = music_df[music_df['day'] == day]\n",
    "    track_list = track_list[track_list['city'] == city]\n",
    "    track_list_count = track_list['userid'].count()\n",
    "    return track_list_count\n",
    "test = number_tracks('Friday', 'Springfield')\n",
    "test\n",
    "\n",
    "# checking to see that the function works as intended"
   ]
  },
  {
   "cell_type": "code",
   "execution_count": 22,
   "metadata": {
    "id": "rJcRATNQ_Zcu"
   },
   "outputs": [
    {
     "data": {
      "text/plain": [
       "15740"
      ]
     },
     "execution_count": 22,
     "metadata": {},
     "output_type": "execute_result"
    }
   ],
   "source": [
    "spring_mon = number_tracks('Monday', 'Springfield')\n",
    "spring_mon \n",
    "\n",
    "# the number of songs played in Springfield on Monday"
   ]
  },
  {
   "cell_type": "code",
   "execution_count": 23,
   "metadata": {
    "id": "hq_ncZ5T_Zcu"
   },
   "outputs": [
    {
     "data": {
      "text/plain": [
       "5614"
      ]
     },
     "execution_count": 23,
     "metadata": {},
     "output_type": "execute_result"
    }
   ],
   "source": [
    "shelby_mon = number_tracks('Monday', 'Shelbyville')\n",
    "shelby_mon \n",
    "\n",
    "# the number of songs played in Shelbyville on Monday"
   ]
  },
  {
   "cell_type": "code",
   "execution_count": 24,
   "metadata": {
    "id": "_NTy2VPU_Zcu"
   },
   "outputs": [
    {
     "data": {
      "text/plain": [
       "11056"
      ]
     },
     "execution_count": 24,
     "metadata": {},
     "output_type": "execute_result"
    }
   ],
   "source": [
    "spring_wed = number_tracks('Wednesday', 'Springfield')\n",
    "spring_wed \n",
    "\n",
    "# the number of songs played in Springfield on Wednesday"
   ]
  },
  {
   "cell_type": "code",
   "execution_count": 25,
   "metadata": {
    "id": "j2y3TAwo_Zcu"
   },
   "outputs": [
    {
     "data": {
      "text/plain": [
       "7003"
      ]
     },
     "execution_count": 25,
     "metadata": {},
     "output_type": "execute_result"
    }
   ],
   "source": [
    "shelby_wed = number_tracks('Wednesday', 'Shelbyville')\n",
    "shelby_wed \n",
    "\n",
    "# the number of songs played in Shelbyville on Wednesday"
   ]
  },
  {
   "cell_type": "code",
   "execution_count": 26,
   "metadata": {
    "id": "vYDw5u_K_Zcu"
   },
   "outputs": [
    {
     "data": {
      "text/plain": [
       "15945"
      ]
     },
     "execution_count": 26,
     "metadata": {},
     "output_type": "execute_result"
    }
   ],
   "source": [
    "spring_fri = number_tracks('Friday', 'Springfield')\n",
    "spring_fri \n",
    "\n",
    "# the number of songs played in Springfield on Friday"
   ]
  },
  {
   "cell_type": "code",
   "execution_count": 27,
   "metadata": {
    "id": "8_yzFtW3_Zcu"
   },
   "outputs": [
    {
     "data": {
      "text/plain": [
       "5895"
      ]
     },
     "execution_count": 27,
     "metadata": {},
     "output_type": "execute_result"
    }
   ],
   "source": [
    "shelby_fri = number_tracks('Friday', 'Shelbyville')\n",
    "shelby_fri \n",
    "\n",
    "# the number of songs played in Shelbyville on Friday"
   ]
  },
  {
   "cell_type": "markdown",
   "metadata": {
    "id": "7QXffbO-_Zcu"
   },
   "source": [
    "We will now make a dataframe with the information we have above."
   ]
  },
  {
   "cell_type": "code",
   "execution_count": 28,
   "metadata": {
    "id": "APAcLpOr_Zcu"
   },
   "outputs": [
    {
     "data": {
      "text/html": [
       "<div>\n",
       "<style scoped>\n",
       "    .dataframe tbody tr th:only-of-type {\n",
       "        vertical-align: middle;\n",
       "    }\n",
       "\n",
       "    .dataframe tbody tr th {\n",
       "        vertical-align: top;\n",
       "    }\n",
       "\n",
       "    .dataframe thead th {\n",
       "        text-align: right;\n",
       "    }\n",
       "</style>\n",
       "<table border=\"1\" class=\"dataframe\">\n",
       "  <thead>\n",
       "    <tr style=\"text-align: right;\">\n",
       "      <th></th>\n",
       "      <th>city</th>\n",
       "      <th>monday</th>\n",
       "      <th>wednesday</th>\n",
       "      <th>friday</th>\n",
       "    </tr>\n",
       "  </thead>\n",
       "  <tbody>\n",
       "    <tr>\n",
       "      <th>0</th>\n",
       "      <td>Springfield</td>\n",
       "      <td>15740</td>\n",
       "      <td>11056</td>\n",
       "      <td>15945</td>\n",
       "    </tr>\n",
       "    <tr>\n",
       "      <th>1</th>\n",
       "      <td>Shelbyville</td>\n",
       "      <td>5614</td>\n",
       "      <td>7003</td>\n",
       "      <td>5895</td>\n",
       "    </tr>\n",
       "  </tbody>\n",
       "</table>\n",
       "</div>"
      ],
      "text/plain": [
       "          city  monday  wednesday  friday\n",
       "0  Springfield   15740      11056   15945\n",
       "1  Shelbyville    5614       7003    5895"
      ]
     },
     "execution_count": 28,
     "metadata": {},
     "output_type": "execute_result"
    }
   ],
   "source": [
    "column_names = ['city', 'monday', 'wednesday', 'friday']\n",
    "data_dict = {'city':['Springfield','Shelbyville'], \n",
    "             'monday':[spring_mon, shelby_mon], \n",
    "             'wednesday':[spring_wed, shelby_wed],\n",
    "             'friday':[spring_fri, shelby_fri]}\n",
    "\n",
    "final_df = pd.DataFrame(data=data_dict, columns=column_names)\n",
    "final_df\n",
    "\n",
    "# table with results"
   ]
  },
  {
   "cell_type": "markdown",
   "metadata": {
    "id": "-EgPIHYu_Zcu"
   },
   "source": [
    "**Conclusions**\n",
    "\n",
    "The data reveals differences in user behavior:\n",
    "\n",
    "- In Springfield, the number of songs played peaks on Mondays and Fridays, while on Wednesday there is a decrease in activity.\n",
    "- Contrarily in Shelbyville, users listen to music more on Wednesday and user activity on Monday and Friday is smaller.\n",
    "\n",
    "So the first hypothesis, \"users from Springfield and Shelbyville listen to music differently\" seems to be correct."
   ]
  },
  {
   "cell_type": "markdown",
   "metadata": {
    "id": "atZAxtq4_Zcu"
   },
   "source": [
    "### Hypothesis 2: music at the beginning and end of the week <a id='week'></a>"
   ]
  },
  {
   "cell_type": "markdown",
   "metadata": {
    "id": "eXrQqXFH_Zcu"
   },
   "source": [
    "According to the second hypothesis, on Monday morning and Friday night, citizens of Springfield listen to genres that differ from ones users from Shelbyville enjoy."
   ]
  },
  {
   "cell_type": "code",
   "execution_count": 29,
   "metadata": {
    "id": "qeaFfM_P_Zcu",
    "pycharm": {
     "is_executing": true
    }
   },
   "outputs": [
    {
     "data": {
      "text/html": [
       "<div>\n",
       "<style scoped>\n",
       "    .dataframe tbody tr th:only-of-type {\n",
       "        vertical-align: middle;\n",
       "    }\n",
       "\n",
       "    .dataframe tbody tr th {\n",
       "        vertical-align: top;\n",
       "    }\n",
       "\n",
       "    .dataframe thead th {\n",
       "        text-align: right;\n",
       "    }\n",
       "</style>\n",
       "<table border=\"1\" class=\"dataframe\">\n",
       "  <thead>\n",
       "    <tr style=\"text-align: right;\">\n",
       "      <th></th>\n",
       "      <th>userid</th>\n",
       "      <th>track</th>\n",
       "      <th>artist</th>\n",
       "      <th>genre</th>\n",
       "      <th>city</th>\n",
       "      <th>time</th>\n",
       "      <th>day</th>\n",
       "    </tr>\n",
       "  </thead>\n",
       "  <tbody>\n",
       "    <tr>\n",
       "      <th>1</th>\n",
       "      <td>55204538</td>\n",
       "      <td>Delayed Because of Accident</td>\n",
       "      <td>Andreas Rönnberg</td>\n",
       "      <td>rock</td>\n",
       "      <td>Springfield</td>\n",
       "      <td>14:07:09</td>\n",
       "      <td>Friday</td>\n",
       "    </tr>\n",
       "    <tr>\n",
       "      <th>4</th>\n",
       "      <td>E2DC1FAE</td>\n",
       "      <td>Soul People</td>\n",
       "      <td>Space Echo</td>\n",
       "      <td>dance</td>\n",
       "      <td>Springfield</td>\n",
       "      <td>08:34:34</td>\n",
       "      <td>Monday</td>\n",
       "    </tr>\n",
       "    <tr>\n",
       "      <th>6</th>\n",
       "      <td>4CB90AA5</td>\n",
       "      <td>True</td>\n",
       "      <td>Roman Messer</td>\n",
       "      <td>dance</td>\n",
       "      <td>Springfield</td>\n",
       "      <td>13:00:07</td>\n",
       "      <td>Wednesday</td>\n",
       "    </tr>\n",
       "    <tr>\n",
       "      <th>7</th>\n",
       "      <td>F03E1C1F</td>\n",
       "      <td>Feeling This Way</td>\n",
       "      <td>Polina Griffith</td>\n",
       "      <td>dance</td>\n",
       "      <td>Springfield</td>\n",
       "      <td>20:47:49</td>\n",
       "      <td>Wednesday</td>\n",
       "    </tr>\n",
       "    <tr>\n",
       "      <th>8</th>\n",
       "      <td>8FA1D3BE</td>\n",
       "      <td>L’estate</td>\n",
       "      <td>Julia Dalia</td>\n",
       "      <td>ruspop</td>\n",
       "      <td>Springfield</td>\n",
       "      <td>09:17:40</td>\n",
       "      <td>Friday</td>\n",
       "    </tr>\n",
       "  </tbody>\n",
       "</table>\n",
       "</div>"
      ],
      "text/plain": [
       "     userid                        track            artist   genre  \\\n",
       "1  55204538  Delayed Because of Accident  Andreas Rönnberg    rock   \n",
       "4  E2DC1FAE                  Soul People        Space Echo   dance   \n",
       "6  4CB90AA5                         True      Roman Messer   dance   \n",
       "7  F03E1C1F             Feeling This Way   Polina Griffith   dance   \n",
       "8  8FA1D3BE                     L’estate       Julia Dalia  ruspop   \n",
       "\n",
       "          city      time        day  \n",
       "1  Springfield  14:07:09     Friday  \n",
       "4  Springfield  08:34:34     Monday  \n",
       "6  Springfield  13:00:07  Wednesday  \n",
       "7  Springfield  20:47:49  Wednesday  \n",
       "8  Springfield  09:17:40     Friday  "
      ]
     },
     "execution_count": 29,
     "metadata": {},
     "output_type": "execute_result"
    }
   ],
   "source": [
    "spr_general = springfield_df # create the spr_general table from the music_df rows, \n",
    "spr_general.head() # where the value in the 'city' column is 'Springfield'"
   ]
  },
  {
   "cell_type": "code",
   "execution_count": 30,
   "metadata": {
    "id": "ORaVRKto_Zcu"
   },
   "outputs": [
    {
     "data": {
      "text/html": [
       "<div>\n",
       "<style scoped>\n",
       "    .dataframe tbody tr th:only-of-type {\n",
       "        vertical-align: middle;\n",
       "    }\n",
       "\n",
       "    .dataframe tbody tr th {\n",
       "        vertical-align: top;\n",
       "    }\n",
       "\n",
       "    .dataframe thead th {\n",
       "        text-align: right;\n",
       "    }\n",
       "</style>\n",
       "<table border=\"1\" class=\"dataframe\">\n",
       "  <thead>\n",
       "    <tr style=\"text-align: right;\">\n",
       "      <th></th>\n",
       "      <th>userid</th>\n",
       "      <th>track</th>\n",
       "      <th>artist</th>\n",
       "      <th>genre</th>\n",
       "      <th>city</th>\n",
       "      <th>time</th>\n",
       "      <th>day</th>\n",
       "    </tr>\n",
       "  </thead>\n",
       "  <tbody>\n",
       "    <tr>\n",
       "      <th>0</th>\n",
       "      <td>FFB692EC</td>\n",
       "      <td>Kamigata To Boots</td>\n",
       "      <td>The Mass Missile</td>\n",
       "      <td>rock</td>\n",
       "      <td>Shelbyville</td>\n",
       "      <td>20:28:33</td>\n",
       "      <td>Wednesday</td>\n",
       "    </tr>\n",
       "    <tr>\n",
       "      <th>2</th>\n",
       "      <td>20EC38</td>\n",
       "      <td>Funiculì funiculà</td>\n",
       "      <td>Mario Lanza</td>\n",
       "      <td>pop</td>\n",
       "      <td>Shelbyville</td>\n",
       "      <td>20:58:07</td>\n",
       "      <td>Wednesday</td>\n",
       "    </tr>\n",
       "    <tr>\n",
       "      <th>3</th>\n",
       "      <td>A3DD03C9</td>\n",
       "      <td>Dragons in the Sunset</td>\n",
       "      <td>Fire + Ice</td>\n",
       "      <td>folk</td>\n",
       "      <td>Shelbyville</td>\n",
       "      <td>08:37:09</td>\n",
       "      <td>Monday</td>\n",
       "    </tr>\n",
       "    <tr>\n",
       "      <th>5</th>\n",
       "      <td>842029A1</td>\n",
       "      <td>Chains</td>\n",
       "      <td>Obladaet</td>\n",
       "      <td>rusrap</td>\n",
       "      <td>Shelbyville</td>\n",
       "      <td>13:09:41</td>\n",
       "      <td>Friday</td>\n",
       "    </tr>\n",
       "    <tr>\n",
       "      <th>9</th>\n",
       "      <td>E772D5C0</td>\n",
       "      <td>Pessimist</td>\n",
       "      <td>unknown</td>\n",
       "      <td>dance</td>\n",
       "      <td>Shelbyville</td>\n",
       "      <td>21:20:49</td>\n",
       "      <td>Wednesday</td>\n",
       "    </tr>\n",
       "  </tbody>\n",
       "</table>\n",
       "</div>"
      ],
      "text/plain": [
       "     userid                  track            artist   genre         city  \\\n",
       "0  FFB692EC      Kamigata To Boots  The Mass Missile    rock  Shelbyville   \n",
       "2    20EC38      Funiculì funiculà       Mario Lanza     pop  Shelbyville   \n",
       "3  A3DD03C9  Dragons in the Sunset        Fire + Ice    folk  Shelbyville   \n",
       "5  842029A1                 Chains          Obladaet  rusrap  Shelbyville   \n",
       "9  E772D5C0              Pessimist           unknown   dance  Shelbyville   \n",
       "\n",
       "       time        day  \n",
       "0  20:28:33  Wednesday  \n",
       "2  20:58:07  Wednesday  \n",
       "3  08:37:09     Monday  \n",
       "5  13:09:41     Friday  \n",
       "9  21:20:49  Wednesday  "
      ]
     },
     "execution_count": 30,
     "metadata": {},
     "output_type": "execute_result"
    }
   ],
   "source": [
    "shel_general = shelbyville_df # create the shel_general from the df rows,\n",
    "shel_general.head() # where the value in the 'city' column is 'Shelbyville'"
   ]
  },
  {
   "cell_type": "code",
   "execution_count": 31,
   "metadata": {
    "id": "laJT9BYl_Zcu"
   },
   "outputs": [],
   "source": [
    "def genre_weekday(my_df, day, time1, time2):\n",
    "    '''\n",
    "    Returns series object storing the 15 most popular genres on a specified day within a specified timeframe.\n",
    "    \n",
    "    Parameters:\n",
    "    my_df (Pandas Dataframe Object): The dataframe you want to analyze\n",
    "    day (str): The specified day. Accepts \"Monday\", \"Wednesday\" or \"Friday\"\n",
    "    time1 (str): The lower bound of the timeframe. In \"HH:MM:SS\" form, uses military time (no am/pm designation)\n",
    "    time2 (str): The upper bound of the timeframe. In \"HH:MM:SS\" form, uses military time (no am/pm designation)\n",
    "    \n",
    "    Returns:\n",
    "    Series: A list of 15 most played genres on a specific day within a specific timeframe\n",
    "    '''\n",
    "    \n",
    "    genre_df = my_df[my_df['day'] == day]\n",
    "    genre_df = genre_df[genre_df['time'] < time2]\n",
    "    genre_df = genre_df[genre_df['time'] > time1]\n",
    "    genre_df_count = genre_df.groupby('genre')['genre'].count()\n",
    "    genre_df_sorted = genre_df_count.sort_values(ascending=False)\n",
    "    return genre_df_sorted[:15]\n",
    "\n",
    "# function that gives me the 15 most popular genres within a given day and timeframe."
   ]
  },
  {
   "cell_type": "code",
   "execution_count": 32,
   "metadata": {
    "id": "yz7itPUQ_Zcu",
    "scrolled": true
   },
   "outputs": [
    {
     "data": {
      "text/plain": [
       "genre\n",
       "pop            781\n",
       "dance          549\n",
       "electronic     480\n",
       "rock           474\n",
       "hiphop         286\n",
       "ruspop         186\n",
       "world          181\n",
       "rusrap         175\n",
       "alternative    164\n",
       "unknown        161\n",
       "classical      157\n",
       "metal          120\n",
       "jazz           100\n",
       "folk            97\n",
       "soundtrack      95\n",
       "Name: genre, dtype: int64"
      ]
     },
     "execution_count": 32,
     "metadata": {},
     "output_type": "execute_result"
    }
   ],
   "source": [
    "genre_weekday(spr_general, 'Monday', '07:00', '11:00')\n",
    "\n",
    "# calling the function for Monday morning in Springfield"
   ]
  },
  {
   "cell_type": "code",
   "execution_count": 33,
   "metadata": {
    "id": "kwUcHPdy_Zcu"
   },
   "outputs": [
    {
     "data": {
      "text/plain": [
       "genre\n",
       "pop            218\n",
       "dance          182\n",
       "rock           162\n",
       "electronic     147\n",
       "hiphop          80\n",
       "ruspop          64\n",
       "alternative     58\n",
       "rusrap          55\n",
       "jazz            44\n",
       "classical       40\n",
       "world           36\n",
       "rap             32\n",
       "soundtrack      31\n",
       "rnb             27\n",
       "metal           27\n",
       "Name: genre, dtype: int64"
      ]
     },
     "execution_count": 33,
     "metadata": {},
     "output_type": "execute_result"
    }
   ],
   "source": [
    "genre_weekday(shel_general, 'Monday', '07:00', '11:00')\n",
    "\n",
    "# calling the function for Monday morning in Shelbyville"
   ]
  },
  {
   "cell_type": "code",
   "execution_count": 34,
   "metadata": {
    "id": "EzXVRE1o_Zcu"
   },
   "outputs": [
    {
     "data": {
      "text/plain": [
       "genre\n",
       "pop            713\n",
       "rock           517\n",
       "dance          495\n",
       "electronic     482\n",
       "hiphop         273\n",
       "world          208\n",
       "ruspop         170\n",
       "classical      163\n",
       "alternative    163\n",
       "rusrap         142\n",
       "jazz           111\n",
       "unknown        110\n",
       "soundtrack     105\n",
       "rnb             90\n",
       "metal           88\n",
       "Name: genre, dtype: int64"
      ]
     },
     "execution_count": 34,
     "metadata": {},
     "output_type": "execute_result"
    }
   ],
   "source": [
    "genre_weekday(spr_general, 'Friday', '17:00', '23:00')\n",
    "\n",
    "# calling the function for Friday evening in Springfield"
   ]
  },
  {
   "cell_type": "code",
   "execution_count": 35,
   "metadata": {
    "id": "JZaEKu5v_Zcu"
   },
   "outputs": [
    {
     "data": {
      "text/plain": [
       "genre\n",
       "pop            256\n",
       "rock           216\n",
       "electronic     216\n",
       "dance          210\n",
       "hiphop          97\n",
       "alternative     63\n",
       "jazz            61\n",
       "classical       60\n",
       "rusrap          59\n",
       "world           54\n",
       "unknown         47\n",
       "ruspop          47\n",
       "soundtrack      40\n",
       "metal           39\n",
       "rap             36\n",
       "Name: genre, dtype: int64"
      ]
     },
     "execution_count": 35,
     "metadata": {},
     "output_type": "execute_result"
    }
   ],
   "source": [
    "genre_weekday(shel_general, 'Friday', '17:00', '23:00')\n",
    "\n",
    "# calling the function for Friday evening in Shelbyville"
   ]
  },
  {
   "cell_type": "markdown",
   "metadata": {
    "id": "wrCe4MNX_Zcu"
   },
   "source": [
    "**Conclusion**\n",
    "\n",
    "Having compared the top 15 genres on Monday morning, we can draw the following conclusions:\n",
    "\n",
    "1. Users from Springfield and Shelbyville listen to similar music. The top five genres are the same, only rock and electronic have switched places.\n",
    "\n",
    "2. In Springfield, the number of missing values turned out to be so big that the value `'unknown'` came in 10th. This means that missing values make up a considerable portion of the data, which may be a basis for questioning the reliability of our conclusions.\n",
    "\n",
    "For Friday evening, the situation is similar. Individual genres vary somewhat, but on the whole, the top 15 is similar for the two cities.\n",
    "\n",
    "Thus, the second hypothesis has been partially proven true:\n",
    "* Users listen to similar music at the beginning and end of the week.\n",
    "* There is no major difference between Springfield and Shelbyville. In both cities, pop is the most popular genre.\n",
    "\n",
    "However, the number of missing values makes this result questionable. In Springfield, there are so many that they affect our top 15. Were we not missing these values, things might look different."
   ]
  },
  {
   "cell_type": "markdown",
   "metadata": {
    "id": "JolODAqr_Zcu"
   },
   "source": [
    "### Hypothesis 3: genre preferences in Springfield and Shelbyville\n",
    "\n",
    "Hypothesis: Shelbyville loves rap music. Springfield's citizens are more into pop."
   ]
  },
  {
   "cell_type": "code",
   "execution_count": 36,
   "metadata": {
    "id": "r19lIPke_Zcu"
   },
   "outputs": [],
   "source": [
    "spr_genres = spr_general.groupby('genre')['genre'].count().sort_values(ascending=False)\n",
    "\n",
    "# groups the spr_general table by the 'genre' column, \n",
    "# counts the values for each genre the 'genre' values \n",
    "# sorts the resulting Series in descending order, and store it to spr_genres"
   ]
  },
  {
   "cell_type": "code",
   "execution_count": 37,
   "metadata": {
    "id": "WhCSooF8_Zcv"
   },
   "outputs": [
    {
     "data": {
      "text/plain": [
       "genre\n",
       "pop            5892\n",
       "dance          4435\n",
       "rock           3965\n",
       "electronic     3786\n",
       "hiphop         2096\n",
       "classical      1616\n",
       "world          1432\n",
       "alternative    1379\n",
       "ruspop         1372\n",
       "rusrap         1161\n",
       "Name: genre, dtype: int64"
      ]
     },
     "execution_count": 37,
     "metadata": {},
     "output_type": "execute_result"
    }
   ],
   "source": [
    "spr_genres.head(10)\n",
    "\n",
    "# printing the first 10 rows of spr_genres"
   ]
  },
  {
   "cell_type": "code",
   "execution_count": 38,
   "metadata": {
    "id": "gluLIpE7_Zcv"
   },
   "outputs": [],
   "source": [
    "shel_genres = shel_general.groupby('genre')['genre'].count().sort_values(ascending=False)\n",
    "\n",
    "# groups the shel_general table by the 'genre' column, \n",
    "# counts the 'genre' values in the grouping \n",
    "# sorts the resulting Series in descending order and store it to shel_genres"
   ]
  },
  {
   "cell_type": "code",
   "execution_count": 39,
   "metadata": {
    "id": "uaGJHjVU_Zcv"
   },
   "outputs": [
    {
     "data": {
      "text/plain": [
       "genre\n",
       "pop            2431\n",
       "dance          1932\n",
       "rock           1879\n",
       "electronic     1736\n",
       "hiphop          960\n",
       "alternative     649\n",
       "classical       646\n",
       "rusrap          564\n",
       "ruspop          538\n",
       "world           515\n",
       "Name: genre, dtype: int64"
      ]
     },
     "execution_count": 39,
     "metadata": {},
     "output_type": "execute_result"
    }
   ],
   "source": [
    "shel_genres.head(10)# printing the first 10 rows from shel_genres"
   ]
  },
  {
   "cell_type": "markdown",
   "metadata": {
    "id": "RY51YJYu_Zcv"
   },
   "source": [
    "**Conclusion**"
   ]
  },
  {
   "cell_type": "markdown",
   "metadata": {
    "id": "nVhnJEm__Zcv"
   },
   "source": [
    "The hypothesis has been partially proven true:\n",
    "* Pop music is the most popular genre in Springfield, as expected.\n",
    "* However, pop music turned out to be equally popular in Springfield and Shelbyville, and rap wasn't in the top 5 for either city.\n"
   ]
  },
  {
   "cell_type": "markdown",
   "metadata": {
    "id": "ykKQ0N65_Zcv"
   },
   "source": [
    "# Recap & Conclusions"
   ]
  },
  {
   "cell_type": "markdown",
   "metadata": {
    "id": "tjUwbHb3_Zcv"
   },
   "source": [
    "We have tested the following three hypotheses:\n",
    "\n",
    "1. User activity differs depending on the day of the week and from city to city. \n",
    "2. On Monday mornings, Springfield and Shelbyville residents listen to different genres. This is also true for Friday evenings. \n",
    "3. Springfield and Shelbyville listeners have different preferences. In Springfield, they prefer pop, while Shelbyville has more rap fans.\n",
    "\n",
    "Before we started analyzing the data, we made the following changes to it, in order to make a better analysis of the data later:\n",
    "- Replaced missing values from 'artist', 'track', and 'genre' columns with 'unknown' (which may skew data when analyzing genre column specifically.\n",
    "- Changed the column headers to be uniform in format.\n",
    "- Removed any rows of duplicate data.\n",
    "\n",
    "In order to test the first hypothesis, we:\n",
    "- Separated the data by city, and further by day of the week, and this resulted in the table below. Which shows the number of tracks played in the specified city on the specified day."
   ]
  },
  {
   "cell_type": "code",
   "execution_count": 40,
   "metadata": {
    "scrolled": true
   },
   "outputs": [
    {
     "data": {
      "text/html": [
       "<div>\n",
       "<style scoped>\n",
       "    .dataframe tbody tr th:only-of-type {\n",
       "        vertical-align: middle;\n",
       "    }\n",
       "\n",
       "    .dataframe tbody tr th {\n",
       "        vertical-align: top;\n",
       "    }\n",
       "\n",
       "    .dataframe thead th {\n",
       "        text-align: right;\n",
       "    }\n",
       "</style>\n",
       "<table border=\"1\" class=\"dataframe\">\n",
       "  <thead>\n",
       "    <tr style=\"text-align: right;\">\n",
       "      <th></th>\n",
       "      <th>city</th>\n",
       "      <th>monday</th>\n",
       "      <th>wednesday</th>\n",
       "      <th>friday</th>\n",
       "    </tr>\n",
       "  </thead>\n",
       "  <tbody>\n",
       "    <tr>\n",
       "      <th>0</th>\n",
       "      <td>Springfield</td>\n",
       "      <td>15740</td>\n",
       "      <td>11056</td>\n",
       "      <td>15945</td>\n",
       "    </tr>\n",
       "    <tr>\n",
       "      <th>1</th>\n",
       "      <td>Shelbyville</td>\n",
       "      <td>5614</td>\n",
       "      <td>7003</td>\n",
       "      <td>5895</td>\n",
       "    </tr>\n",
       "  </tbody>\n",
       "</table>\n",
       "</div>"
      ],
      "text/plain": [
       "          city  monday  wednesday  friday\n",
       "0  Springfield   15740      11056   15945\n",
       "1  Shelbyville    5614       7003    5895"
      ]
     },
     "execution_count": 40,
     "metadata": {},
     "output_type": "execute_result"
    }
   ],
   "source": [
    "final_df"
   ]
  },
  {
   "cell_type": "markdown",
   "metadata": {},
   "source": [
    "After analyzing the data, we concluded:\n",
    "\n",
    "1. User activity in Springfield and Shelbyville does depends on the day of the week, though the cities vary in different ways. In Springfield the peak listening days are on Monday and Friday, whereas in Shelbyville the peak listening day is on Wednesday."
   ]
  },
  {
   "cell_type": "markdown",
   "metadata": {},
   "source": [
    "In order to test the second hypothesis, we:\n",
    "- Separated the data by city\n",
    "- Further separated the data to compare tracks listened to on Monday 7AM-11AM to Friday 5pm-11pm\n",
    "- Compared the genre listened to in these two time periods\n",
    "- Combined 'hip', 'hop', and 'hip-hop' genres to one all encompassing genre 'hiphop'"
   ]
  },
  {
   "cell_type": "markdown",
   "metadata": {},
   "source": [
    "After analyzing the data, we concluded:\n",
    "\n",
    "2. Musical preferences, in terms of genre, do not vary significantly over the course of the week in both Springfield and Shelbyville. We can see small differences in order, for example, sometimes Dance is higher than Electronic, but, in both Springfield and Shelbyville the top 5 most listened to genres remain the same: Pop, Dance, Rock, Electronic, and Hiphop. This means that Springfield and Shelbyville residents **do not** listen to different genres, but actually listen to very similar genres, which is contrary to our original hypothesis. It also should be noted that the 'unknown' genre made it to the top 15 genres, which represents a good portion of our data, enough to skew the results of this analysis."
   ]
  },
  {
   "cell_type": "markdown",
   "metadata": {},
   "source": [
    "In order to test the third hypothesis, we:\n",
    "- Separated the data by city\n",
    "- Compared the number of songs played for each genre to each other in a list\n",
    "- Compared the two lists (separated by city) to each other"
   ]
  },
  {
   "cell_type": "markdown",
   "metadata": {},
   "source": [
    "After analyzing the data, we concluded:\n",
    "\n",
    "3. It turns out that the musical preferences of users from Springfield and Shelbyville are quite similar. Both Springfield and Shelbyville listeners prefer pop, as it is the most listened to genre among residents of both cities. Rap is not seen on the top 10 genre of either of these two cities, this is once again, contrary to our hypothesis from before."
   ]
  }
 ],
 "metadata": {
  "ExecuteTimeLog": [
   {
    "duration": 547,
    "start_time": "2022-04-24T18:17:16.657Z"
   },
   {
    "duration": 197,
    "start_time": "2022-04-24T18:17:55.713Z"
   },
   {
    "duration": 408,
    "start_time": "2022-04-24T18:18:06.569Z"
   },
   {
    "duration": 18,
    "start_time": "2022-04-24T18:18:38.687Z"
   },
   {
    "duration": 69,
    "start_time": "2022-04-24T18:21:27.665Z"
   },
   {
    "duration": 9,
    "start_time": "2022-04-24T18:23:47.368Z"
   },
   {
    "duration": 32,
    "start_time": "2022-04-24T18:27:16.838Z"
   },
   {
    "duration": 7,
    "start_time": "2022-04-24T18:27:29.813Z"
   },
   {
    "duration": 5,
    "start_time": "2022-04-24T18:27:57.329Z"
   },
   {
    "duration": 6,
    "start_time": "2022-04-24T18:27:59.032Z"
   },
   {
    "duration": 35,
    "start_time": "2022-04-24T18:28:57.337Z"
   },
   {
    "duration": 26,
    "start_time": "2022-04-24T18:33:24.102Z"
   },
   {
    "duration": 34,
    "start_time": "2022-04-24T18:33:31.738Z"
   },
   {
    "duration": 44,
    "start_time": "2022-04-24T18:37:38.210Z"
   },
   {
    "duration": 64,
    "start_time": "2022-04-24T18:37:40.294Z"
   },
   {
    "duration": 105,
    "start_time": "2022-04-24T18:38:05.329Z"
   },
   {
    "duration": 101,
    "start_time": "2022-04-24T18:38:11.863Z"
   },
   {
    "duration": 118,
    "start_time": "2022-04-24T18:41:52.014Z"
   },
   {
    "duration": 105,
    "start_time": "2022-04-24T18:42:44.833Z"
   },
   {
    "duration": 93,
    "start_time": "2022-04-24T18:42:58.992Z"
   },
   {
    "duration": 55,
    "start_time": "2022-04-24T18:47:14.623Z"
   },
   {
    "duration": 4,
    "start_time": "2022-04-24T18:51:48.961Z"
   },
   {
    "duration": 10,
    "start_time": "2022-04-24T18:53:55.711Z"
   },
   {
    "duration": 105,
    "start_time": "2022-04-24T18:54:02.588Z"
   },
   {
    "duration": 59,
    "start_time": "2022-04-24T18:54:19.919Z"
   },
   {
    "duration": 50,
    "start_time": "2022-04-24T19:11:16.864Z"
   },
   {
    "duration": 59,
    "start_time": "2022-04-24T19:14:53.448Z"
   },
   {
    "duration": 25,
    "start_time": "2022-04-25T01:20:52.615Z"
   },
   {
    "duration": 23,
    "start_time": "2022-04-25T01:21:11.229Z"
   },
   {
    "duration": 19,
    "start_time": "2022-04-25T01:22:21.594Z"
   },
   {
    "duration": 21,
    "start_time": "2022-04-25T01:22:30.702Z"
   },
   {
    "duration": 18,
    "start_time": "2022-04-25T01:22:56.308Z"
   },
   {
    "duration": 18,
    "start_time": "2022-04-25T01:23:22.793Z"
   },
   {
    "duration": 17,
    "start_time": "2022-04-25T01:23:51.779Z"
   },
   {
    "duration": 21,
    "start_time": "2022-04-25T01:24:19.328Z"
   },
   {
    "duration": 20,
    "start_time": "2022-04-25T01:24:38.302Z"
   },
   {
    "duration": 19,
    "start_time": "2022-04-25T01:24:48.982Z"
   },
   {
    "duration": 11,
    "start_time": "2022-04-25T01:32:52.776Z"
   },
   {
    "duration": 9,
    "start_time": "2022-04-25T01:35:16.423Z"
   },
   {
    "duration": 9,
    "start_time": "2022-04-25T01:35:49.811Z"
   },
   {
    "duration": 391,
    "start_time": "2022-04-25T01:51:09.011Z"
   },
   {
    "duration": 12,
    "start_time": "2022-04-25T01:51:16.179Z"
   },
   {
    "duration": 9,
    "start_time": "2022-04-25T01:52:15.327Z"
   },
   {
    "duration": 8,
    "start_time": "2022-04-25T01:52:20.613Z"
   },
   {
    "duration": 21,
    "start_time": "2022-04-25T01:52:29.610Z"
   },
   {
    "duration": 19,
    "start_time": "2022-04-25T01:53:18.564Z"
   },
   {
    "duration": 14,
    "start_time": "2022-04-25T01:53:26.530Z"
   },
   {
    "duration": 22,
    "start_time": "2022-04-25T01:54:11.774Z"
   },
   {
    "duration": 15,
    "start_time": "2022-04-25T01:54:13.408Z"
   },
   {
    "duration": 8,
    "start_time": "2022-04-25T01:57:28.526Z"
   },
   {
    "duration": 11,
    "start_time": "2022-04-25T01:57:30.892Z"
   },
   {
    "duration": 5,
    "start_time": "2022-04-25T01:57:32.379Z"
   },
   {
    "duration": 5,
    "start_time": "2022-04-25T01:57:36.135Z"
   },
   {
    "duration": 8,
    "start_time": "2022-04-25T01:58:02.731Z"
   },
   {
    "duration": 5,
    "start_time": "2022-04-25T01:58:13.017Z"
   },
   {
    "duration": 512,
    "start_time": "2022-04-25T02:02:00.883Z"
   },
   {
    "duration": 382,
    "start_time": "2022-04-25T02:02:01.398Z"
   },
   {
    "duration": 21,
    "start_time": "2022-04-25T02:02:01.782Z"
   },
   {
    "duration": 48,
    "start_time": "2022-04-25T02:02:01.806Z"
   },
   {
    "duration": 31,
    "start_time": "2022-04-25T02:02:01.856Z"
   },
   {
    "duration": 13,
    "start_time": "2022-04-25T02:02:01.889Z"
   },
   {
    "duration": 14,
    "start_time": "2022-04-25T02:02:01.904Z"
   },
   {
    "duration": 48,
    "start_time": "2022-04-25T02:02:01.920Z"
   },
   {
    "duration": 26,
    "start_time": "2022-04-25T02:02:01.970Z"
   },
   {
    "duration": 35,
    "start_time": "2022-04-25T02:02:02.000Z"
   },
   {
    "duration": 116,
    "start_time": "2022-04-25T02:02:02.037Z"
   },
   {
    "duration": 107,
    "start_time": "2022-04-25T02:02:02.155Z"
   },
   {
    "duration": 98,
    "start_time": "2022-04-25T02:02:02.264Z"
   },
   {
    "duration": 63,
    "start_time": "2022-04-25T02:02:02.364Z"
   },
   {
    "duration": 5,
    "start_time": "2022-04-25T02:02:02.429Z"
   },
   {
    "duration": 114,
    "start_time": "2022-04-25T02:02:02.437Z"
   },
   {
    "duration": 62,
    "start_time": "2022-04-25T02:02:02.553Z"
   },
   {
    "duration": 28,
    "start_time": "2022-04-25T02:02:02.618Z"
   },
   {
    "duration": 61,
    "start_time": "2022-04-25T02:02:02.650Z"
   },
   {
    "duration": 24,
    "start_time": "2022-04-25T02:02:02.714Z"
   },
   {
    "duration": 21,
    "start_time": "2022-04-25T02:02:02.740Z"
   },
   {
    "duration": 43,
    "start_time": "2022-04-25T02:02:02.764Z"
   },
   {
    "duration": 19,
    "start_time": "2022-04-25T02:02:02.809Z"
   },
   {
    "duration": 17,
    "start_time": "2022-04-25T02:02:02.830Z"
   },
   {
    "duration": 56,
    "start_time": "2022-04-25T02:02:02.850Z"
   },
   {
    "duration": 19,
    "start_time": "2022-04-25T02:02:02.908Z"
   },
   {
    "duration": 13,
    "start_time": "2022-04-25T02:02:02.930Z"
   },
   {
    "duration": 10,
    "start_time": "2022-04-25T02:02:02.947Z"
   },
   {
    "duration": 42,
    "start_time": "2022-04-25T02:02:02.959Z"
   },
   {
    "duration": 11,
    "start_time": "2022-04-25T02:02:03.003Z"
   },
   {
    "duration": 31,
    "start_time": "2022-04-25T02:02:03.016Z"
   },
   {
    "duration": 14,
    "start_time": "2022-04-25T02:02:03.050Z"
   },
   {
    "duration": 48,
    "start_time": "2022-04-25T02:02:03.066Z"
   },
   {
    "duration": 14,
    "start_time": "2022-04-25T02:02:03.117Z"
   },
   {
    "duration": 11,
    "start_time": "2022-04-25T02:02:03.134Z"
   },
   {
    "duration": 5,
    "start_time": "2022-04-25T02:02:03.148Z"
   },
   {
    "duration": 9,
    "start_time": "2022-04-25T02:02:03.192Z"
   },
   {
    "duration": 5,
    "start_time": "2022-04-25T02:02:03.204Z"
   },
   {
    "duration": 426,
    "start_time": "2022-04-25T17:25:39.681Z"
   },
   {
    "duration": 299,
    "start_time": "2022-04-25T17:25:40.109Z"
   },
   {
    "duration": 11,
    "start_time": "2022-04-25T17:25:40.410Z"
   },
   {
    "duration": 38,
    "start_time": "2022-04-25T17:25:40.423Z"
   },
   {
    "duration": 4,
    "start_time": "2022-04-25T17:25:40.463Z"
   },
   {
    "duration": 6,
    "start_time": "2022-04-25T17:25:40.469Z"
   },
   {
    "duration": 8,
    "start_time": "2022-04-25T17:25:40.477Z"
   },
   {
    "duration": 57,
    "start_time": "2022-04-25T17:25:40.486Z"
   },
   {
    "duration": 21,
    "start_time": "2022-04-25T17:25:40.544Z"
   },
   {
    "duration": 26,
    "start_time": "2022-04-25T17:25:40.568Z"
   },
   {
    "duration": 96,
    "start_time": "2022-04-25T17:25:40.595Z"
   },
   {
    "duration": 83,
    "start_time": "2022-04-25T17:25:40.693Z"
   },
   {
    "duration": 71,
    "start_time": "2022-04-25T17:25:40.778Z"
   },
   {
    "duration": 43,
    "start_time": "2022-04-25T17:25:40.851Z"
   },
   {
    "duration": 2,
    "start_time": "2022-04-25T17:25:40.896Z"
   },
   {
    "duration": 108,
    "start_time": "2022-04-25T17:25:40.900Z"
   },
   {
    "duration": 52,
    "start_time": "2022-04-25T17:25:41.010Z"
   },
   {
    "duration": 21,
    "start_time": "2022-04-25T17:25:41.064Z"
   },
   {
    "duration": 48,
    "start_time": "2022-04-25T17:25:41.087Z"
   },
   {
    "duration": 20,
    "start_time": "2022-04-25T17:25:41.137Z"
   },
   {
    "duration": 18,
    "start_time": "2022-04-25T17:25:41.159Z"
   },
   {
    "duration": 15,
    "start_time": "2022-04-25T17:25:41.179Z"
   },
   {
    "duration": 48,
    "start_time": "2022-04-25T17:25:41.195Z"
   },
   {
    "duration": 15,
    "start_time": "2022-04-25T17:25:41.245Z"
   },
   {
    "duration": 17,
    "start_time": "2022-04-25T17:25:41.262Z"
   },
   {
    "duration": 53,
    "start_time": "2022-04-25T17:25:41.281Z"
   },
   {
    "duration": 8,
    "start_time": "2022-04-25T17:25:41.336Z"
   },
   {
    "duration": 15,
    "start_time": "2022-04-25T17:25:41.348Z"
   },
   {
    "duration": 12,
    "start_time": "2022-04-25T17:25:41.365Z"
   },
   {
    "duration": 5,
    "start_time": "2022-04-25T17:25:41.379Z"
   },
   {
    "duration": 23,
    "start_time": "2022-04-25T17:25:41.386Z"
   },
   {
    "duration": 13,
    "start_time": "2022-04-25T17:25:41.434Z"
   },
   {
    "duration": 21,
    "start_time": "2022-04-25T17:25:41.448Z"
   },
   {
    "duration": 14,
    "start_time": "2022-04-25T17:25:41.470Z"
   },
   {
    "duration": 10,
    "start_time": "2022-04-25T17:25:41.486Z"
   },
   {
    "duration": 38,
    "start_time": "2022-04-25T17:25:41.497Z"
   },
   {
    "duration": 11,
    "start_time": "2022-04-25T17:25:41.537Z"
   },
   {
    "duration": 5,
    "start_time": "2022-04-25T17:25:41.549Z"
   },
   {
    "duration": 435,
    "start_time": "2022-04-26T12:25:07.659Z"
   },
   {
    "duration": 307,
    "start_time": "2022-04-26T12:25:08.096Z"
   },
   {
    "duration": 11,
    "start_time": "2022-04-26T12:25:08.405Z"
   },
   {
    "duration": 31,
    "start_time": "2022-04-26T12:25:08.423Z"
   },
   {
    "duration": 4,
    "start_time": "2022-04-26T12:25:08.455Z"
   },
   {
    "duration": 6,
    "start_time": "2022-04-26T12:25:08.461Z"
   },
   {
    "duration": 6,
    "start_time": "2022-04-26T12:25:08.468Z"
   },
   {
    "duration": 57,
    "start_time": "2022-04-26T12:25:08.475Z"
   },
   {
    "duration": 20,
    "start_time": "2022-04-26T12:25:08.534Z"
   },
   {
    "duration": 28,
    "start_time": "2022-04-26T12:25:08.557Z"
   },
   {
    "duration": 93,
    "start_time": "2022-04-26T12:25:08.587Z"
   },
   {
    "duration": 83,
    "start_time": "2022-04-26T12:25:08.682Z"
   },
   {
    "duration": 64,
    "start_time": "2022-04-26T12:25:08.767Z"
   },
   {
    "duration": 40,
    "start_time": "2022-04-26T12:25:08.833Z"
   },
   {
    "duration": 3,
    "start_time": "2022-04-26T12:25:08.875Z"
   },
   {
    "duration": 93,
    "start_time": "2022-04-26T12:25:08.879Z"
   },
   {
    "duration": 184,
    "start_time": "2022-04-26T12:25:08.974Z"
   },
   {
    "duration": 0,
    "start_time": "2022-04-26T12:25:09.160Z"
   },
   {
    "duration": 0,
    "start_time": "2022-04-26T12:25:09.161Z"
   },
   {
    "duration": 0,
    "start_time": "2022-04-26T12:25:09.163Z"
   },
   {
    "duration": 0,
    "start_time": "2022-04-26T12:25:09.164Z"
   },
   {
    "duration": 0,
    "start_time": "2022-04-26T12:25:09.165Z"
   },
   {
    "duration": 0,
    "start_time": "2022-04-26T12:25:09.166Z"
   },
   {
    "duration": 0,
    "start_time": "2022-04-26T12:25:09.168Z"
   },
   {
    "duration": 0,
    "start_time": "2022-04-26T12:25:09.169Z"
   },
   {
    "duration": 0,
    "start_time": "2022-04-26T12:25:09.170Z"
   },
   {
    "duration": 0,
    "start_time": "2022-04-26T12:25:09.171Z"
   },
   {
    "duration": 0,
    "start_time": "2022-04-26T12:25:09.173Z"
   },
   {
    "duration": 0,
    "start_time": "2022-04-26T12:25:09.174Z"
   },
   {
    "duration": 0,
    "start_time": "2022-04-26T12:25:09.175Z"
   },
   {
    "duration": 0,
    "start_time": "2022-04-26T12:25:09.177Z"
   },
   {
    "duration": 0,
    "start_time": "2022-04-26T12:25:09.179Z"
   },
   {
    "duration": 0,
    "start_time": "2022-04-26T12:25:09.180Z"
   },
   {
    "duration": 0,
    "start_time": "2022-04-26T12:25:09.181Z"
   },
   {
    "duration": 0,
    "start_time": "2022-04-26T12:25:09.182Z"
   },
   {
    "duration": 0,
    "start_time": "2022-04-26T12:25:09.184Z"
   },
   {
    "duration": 0,
    "start_time": "2022-04-26T12:25:09.185Z"
   },
   {
    "duration": 0,
    "start_time": "2022-04-26T12:25:09.186Z"
   },
   {
    "duration": 0,
    "start_time": "2022-04-26T12:25:09.188Z"
   },
   {
    "duration": 428,
    "start_time": "2022-04-26T12:25:54.531Z"
   },
   {
    "duration": 283,
    "start_time": "2022-04-26T12:25:54.961Z"
   },
   {
    "duration": 15,
    "start_time": "2022-04-26T12:25:55.246Z"
   },
   {
    "duration": 65,
    "start_time": "2022-04-26T12:25:55.264Z"
   },
   {
    "duration": 4,
    "start_time": "2022-04-26T12:25:55.332Z"
   },
   {
    "duration": 5,
    "start_time": "2022-04-26T12:25:55.338Z"
   },
   {
    "duration": 9,
    "start_time": "2022-04-26T12:25:55.345Z"
   },
   {
    "duration": 44,
    "start_time": "2022-04-26T12:25:55.355Z"
   },
   {
    "duration": 32,
    "start_time": "2022-04-26T12:25:55.424Z"
   },
   {
    "duration": 45,
    "start_time": "2022-04-26T12:25:55.460Z"
   },
   {
    "duration": 65,
    "start_time": "2022-04-26T12:25:55.522Z"
   },
   {
    "duration": 88,
    "start_time": "2022-04-26T12:25:55.589Z"
   },
   {
    "duration": 71,
    "start_time": "2022-04-26T12:25:55.679Z"
   },
   {
    "duration": 40,
    "start_time": "2022-04-26T12:25:55.752Z"
   },
   {
    "duration": 3,
    "start_time": "2022-04-26T12:25:55.793Z"
   },
   {
    "duration": 91,
    "start_time": "2022-04-26T12:25:55.798Z"
   },
   {
    "duration": 54,
    "start_time": "2022-04-26T12:25:55.890Z"
   },
   {
    "duration": 20,
    "start_time": "2022-04-26T12:25:55.946Z"
   },
   {
    "duration": 29,
    "start_time": "2022-04-26T12:25:55.968Z"
   },
   {
    "duration": 29,
    "start_time": "2022-04-26T12:25:55.999Z"
   },
   {
    "duration": 17,
    "start_time": "2022-04-26T12:25:56.030Z"
   },
   {
    "duration": 14,
    "start_time": "2022-04-26T12:25:56.049Z"
   },
   {
    "duration": 14,
    "start_time": "2022-04-26T12:25:56.064Z"
   },
   {
    "duration": 14,
    "start_time": "2022-04-26T12:25:56.079Z"
   },
   {
    "duration": 28,
    "start_time": "2022-04-26T12:25:56.094Z"
   },
   {
    "duration": 16,
    "start_time": "2022-04-26T12:25:56.125Z"
   },
   {
    "duration": 11,
    "start_time": "2022-04-26T12:25:56.142Z"
   },
   {
    "duration": 8,
    "start_time": "2022-04-26T12:25:56.157Z"
   },
   {
    "duration": 9,
    "start_time": "2022-04-26T12:25:56.166Z"
   },
   {
    "duration": 6,
    "start_time": "2022-04-26T12:25:56.177Z"
   },
   {
    "duration": 31,
    "start_time": "2022-04-26T12:25:56.185Z"
   },
   {
    "duration": 11,
    "start_time": "2022-04-26T12:25:56.218Z"
   },
   {
    "duration": 17,
    "start_time": "2022-04-26T12:25:56.231Z"
   },
   {
    "duration": 11,
    "start_time": "2022-04-26T12:25:56.250Z"
   },
   {
    "duration": 13,
    "start_time": "2022-04-26T12:25:56.263Z"
   },
   {
    "duration": 5,
    "start_time": "2022-04-26T12:25:56.278Z"
   },
   {
    "duration": 13,
    "start_time": "2022-04-26T12:25:56.285Z"
   },
   {
    "duration": 10,
    "start_time": "2022-04-26T12:25:56.300Z"
   },
   {
    "duration": 20,
    "start_time": "2022-04-26T12:26:32.678Z"
   },
   {
    "duration": 26,
    "start_time": "2022-04-26T12:27:44.493Z"
   },
   {
    "duration": 440,
    "start_time": "2022-04-26T12:28:20.796Z"
   },
   {
    "duration": 299,
    "start_time": "2022-04-26T12:28:21.238Z"
   },
   {
    "duration": 12,
    "start_time": "2022-04-26T12:28:21.539Z"
   },
   {
    "duration": 38,
    "start_time": "2022-04-26T12:28:21.554Z"
   },
   {
    "duration": 10,
    "start_time": "2022-04-26T12:28:21.594Z"
   },
   {
    "duration": 14,
    "start_time": "2022-04-26T12:28:21.622Z"
   },
   {
    "duration": 19,
    "start_time": "2022-04-26T12:28:21.638Z"
   },
   {
    "duration": 65,
    "start_time": "2022-04-26T12:28:21.659Z"
   },
   {
    "duration": 40,
    "start_time": "2022-04-26T12:28:21.727Z"
   },
   {
    "duration": 51,
    "start_time": "2022-04-26T12:28:21.771Z"
   },
   {
    "duration": 70,
    "start_time": "2022-04-26T12:28:21.824Z"
   },
   {
    "duration": 79,
    "start_time": "2022-04-26T12:28:21.896Z"
   },
   {
    "duration": 70,
    "start_time": "2022-04-26T12:28:21.977Z"
   },
   {
    "duration": 43,
    "start_time": "2022-04-26T12:28:22.048Z"
   },
   {
    "duration": 3,
    "start_time": "2022-04-26T12:28:22.093Z"
   },
   {
    "duration": 97,
    "start_time": "2022-04-26T12:28:22.098Z"
   },
   {
    "duration": 51,
    "start_time": "2022-04-26T12:28:22.197Z"
   },
   {
    "duration": 34,
    "start_time": "2022-04-26T12:28:22.250Z"
   },
   {
    "duration": 35,
    "start_time": "2022-04-26T12:28:22.285Z"
   },
   {
    "duration": 21,
    "start_time": "2022-04-26T12:28:22.322Z"
   },
   {
    "duration": 32,
    "start_time": "2022-04-26T12:28:22.344Z"
   },
   {
    "duration": 23,
    "start_time": "2022-04-26T12:28:22.378Z"
   },
   {
    "duration": 26,
    "start_time": "2022-04-26T12:28:22.404Z"
   },
   {
    "duration": 16,
    "start_time": "2022-04-26T12:28:22.432Z"
   },
   {
    "duration": 33,
    "start_time": "2022-04-26T12:28:22.450Z"
   },
   {
    "duration": 47,
    "start_time": "2022-04-26T12:28:22.485Z"
   },
   {
    "duration": 14,
    "start_time": "2022-04-26T12:28:22.534Z"
   },
   {
    "duration": 25,
    "start_time": "2022-04-26T12:28:22.553Z"
   },
   {
    "duration": 28,
    "start_time": "2022-04-26T12:28:22.580Z"
   },
   {
    "duration": 13,
    "start_time": "2022-04-26T12:28:22.610Z"
   },
   {
    "duration": 52,
    "start_time": "2022-04-26T12:28:22.626Z"
   },
   {
    "duration": 19,
    "start_time": "2022-04-26T12:28:22.681Z"
   },
   {
    "duration": 32,
    "start_time": "2022-04-26T12:28:22.702Z"
   },
   {
    "duration": 18,
    "start_time": "2022-04-26T12:28:22.737Z"
   },
   {
    "duration": 16,
    "start_time": "2022-04-26T12:28:22.758Z"
   },
   {
    "duration": 13,
    "start_time": "2022-04-26T12:28:22.777Z"
   },
   {
    "duration": 12,
    "start_time": "2022-04-26T12:28:22.792Z"
   },
   {
    "duration": 20,
    "start_time": "2022-04-26T12:28:22.806Z"
   },
   {
    "duration": 9,
    "start_time": "2022-04-26T13:49:01.721Z"
   },
   {
    "duration": 399,
    "start_time": "2022-04-26T15:01:04.446Z"
   },
   {
    "duration": 274,
    "start_time": "2022-04-26T15:01:04.847Z"
   },
   {
    "duration": 11,
    "start_time": "2022-04-26T15:01:05.123Z"
   },
   {
    "duration": 29,
    "start_time": "2022-04-26T15:01:05.136Z"
   },
   {
    "duration": 4,
    "start_time": "2022-04-26T15:01:05.167Z"
   },
   {
    "duration": 4,
    "start_time": "2022-04-26T15:01:05.173Z"
   },
   {
    "duration": 6,
    "start_time": "2022-04-26T15:01:05.179Z"
   },
   {
    "duration": 55,
    "start_time": "2022-04-26T15:01:05.186Z"
   },
   {
    "duration": 18,
    "start_time": "2022-04-26T15:01:05.242Z"
   },
   {
    "duration": 26,
    "start_time": "2022-04-26T15:01:05.262Z"
   },
   {
    "duration": 88,
    "start_time": "2022-04-26T15:01:05.290Z"
   },
   {
    "duration": 74,
    "start_time": "2022-04-26T15:01:05.380Z"
   },
   {
    "duration": 57,
    "start_time": "2022-04-26T15:01:05.456Z"
   },
   {
    "duration": 41,
    "start_time": "2022-04-26T15:01:05.521Z"
   },
   {
    "duration": 3,
    "start_time": "2022-04-26T15:01:05.564Z"
   },
   {
    "duration": 94,
    "start_time": "2022-04-26T15:01:05.569Z"
   },
   {
    "duration": 41,
    "start_time": "2022-04-26T15:01:05.664Z"
   },
   {
    "duration": 29,
    "start_time": "2022-04-26T15:01:05.707Z"
   },
   {
    "duration": 26,
    "start_time": "2022-04-26T15:01:05.737Z"
   },
   {
    "duration": 19,
    "start_time": "2022-04-26T15:01:05.765Z"
   },
   {
    "duration": 42,
    "start_time": "2022-04-26T15:01:05.786Z"
   },
   {
    "duration": 16,
    "start_time": "2022-04-26T15:01:05.830Z"
   },
   {
    "duration": 14,
    "start_time": "2022-04-26T15:01:05.847Z"
   },
   {
    "duration": 15,
    "start_time": "2022-04-26T15:01:05.863Z"
   },
   {
    "duration": 46,
    "start_time": "2022-04-26T15:01:05.879Z"
   },
   {
    "duration": 15,
    "start_time": "2022-04-26T15:01:05.927Z"
   },
   {
    "duration": 8,
    "start_time": "2022-04-26T15:01:05.944Z"
   },
   {
    "duration": 10,
    "start_time": "2022-04-26T15:01:05.955Z"
   },
   {
    "duration": 18,
    "start_time": "2022-04-26T15:01:05.966Z"
   },
   {
    "duration": 8,
    "start_time": "2022-04-26T15:01:05.985Z"
   },
   {
    "duration": 41,
    "start_time": "2022-04-26T15:01:05.994Z"
   },
   {
    "duration": 12,
    "start_time": "2022-04-26T15:01:06.036Z"
   },
   {
    "duration": 19,
    "start_time": "2022-04-26T15:01:06.049Z"
   },
   {
    "duration": 13,
    "start_time": "2022-04-26T15:01:06.070Z"
   },
   {
    "duration": 9,
    "start_time": "2022-04-26T15:01:06.084Z"
   },
   {
    "duration": 5,
    "start_time": "2022-04-26T15:01:06.123Z"
   },
   {
    "duration": 12,
    "start_time": "2022-04-26T15:01:06.130Z"
   },
   {
    "duration": 8,
    "start_time": "2022-04-26T15:01:06.144Z"
   },
   {
    "duration": 12,
    "start_time": "2022-04-26T15:01:06.154Z"
   }
  ],
  "colab": {
   "collapsed_sections": [
    "E0vqbgi9ay0H",
    "VUC88oWjTJw2",
    "atZAxtq4_Zcu"
   ],
   "name": "EmptyFinalProject.ipynb\"",
   "provenance": []
  },
  "kernelspec": {
   "display_name": "Python 3 (ipykernel)",
   "language": "python",
   "name": "python3"
  },
  "language_info": {
   "codemirror_mode": {
    "name": "ipython",
    "version": 3
   },
   "file_extension": ".py",
   "mimetype": "text/x-python",
   "name": "python",
   "nbconvert_exporter": "python",
   "pygments_lexer": "ipython3",
   "version": "3.9.7"
  },
  "toc": {
   "base_numbering": 1,
   "nav_menu": {},
   "number_sections": true,
   "sideBar": true,
   "skip_h1_title": true,
   "title_cell": "Table of Contents",
   "title_sidebar": "Contents",
   "toc_cell": false,
   "toc_position": {},
   "toc_section_display": true,
   "toc_window_display": false
  }
 },
 "nbformat": 4,
 "nbformat_minor": 4
}
