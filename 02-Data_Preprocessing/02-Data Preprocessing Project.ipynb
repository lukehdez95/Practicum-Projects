{
 "cells": [
  {
   "cell_type": "markdown",
   "id": "2779e7d2",
   "metadata": {},
   "source": [
    "# Objective"
   ]
  },
  {
   "cell_type": "markdown",
   "id": "b760dea2",
   "metadata": {},
   "source": [
    "We've collected data across different variables from our customers. Our job is to look at this data to see if any patterns emerge about a client's likelihood to pay back a loan given these variables. \n",
    "\n",
    "Specifically, we were asked to investigate:\n",
    "- Does a customer's marital status impact whether or not they will default on a loan?\n",
    "- Does the number of children a customer has effect whether or not they will default on a loan?"
   ]
  },
  {
   "cell_type": "code",
   "execution_count": 1,
   "id": "0bc64f5a",
   "metadata": {},
   "outputs": [],
   "source": [
    "#import libraries\n",
    "import pandas as pd\n",
    "import numpy as np"
   ]
  },
  {
   "cell_type": "code",
   "execution_count": 2,
   "id": "056fb666",
   "metadata": {},
   "outputs": [],
   "source": [
    "#read dataset\n",
    "try:\n",
    "    credit_df = pd.read_csv('credit_scoring_eng.csv')\n",
    "except:\n",
    "    credit_df = pd.read_csv('/datasets/credit_scoring_eng.csv')"
   ]
  },
  {
   "cell_type": "code",
   "execution_count": 3,
   "id": "51e28537",
   "metadata": {
    "scrolled": false
   },
   "outputs": [
    {
     "name": "stdout",
     "output_type": "stream",
     "text": [
      "<class 'pandas.core.frame.DataFrame'>\n",
      "RangeIndex: 21525 entries, 0 to 21524\n",
      "Data columns (total 12 columns):\n",
      " #   Column            Non-Null Count  Dtype  \n",
      "---  ------            --------------  -----  \n",
      " 0   children          21525 non-null  int64  \n",
      " 1   days_employed     19351 non-null  float64\n",
      " 2   dob_years         21525 non-null  int64  \n",
      " 3   education         21525 non-null  object \n",
      " 4   education_id      21525 non-null  int64  \n",
      " 5   family_status     21525 non-null  object \n",
      " 6   family_status_id  21525 non-null  int64  \n",
      " 7   gender            21525 non-null  object \n",
      " 8   income_type       21525 non-null  object \n",
      " 9   debt              21525 non-null  int64  \n",
      " 10  total_income      19351 non-null  float64\n",
      " 11  purpose           21525 non-null  object \n",
      "dtypes: float64(2), int64(5), object(5)\n",
      "memory usage: 2.0+ MB\n"
     ]
    }
   ],
   "source": [
    "#inspect the data\n",
    "credit_df.info()"
   ]
  },
  {
   "cell_type": "markdown",
   "id": "ac0628a5",
   "metadata": {},
   "source": [
    "# Preprocessing"
   ]
  },
  {
   "cell_type": "markdown",
   "id": "77cf78de",
   "metadata": {},
   "source": [
    "## 1. Null Values"
   ]
  },
  {
   "cell_type": "markdown",
   "id": "4a6939c1",
   "metadata": {},
   "source": [
    "There are null values in the 'days_employed' column and the 'total_income' column. They are also the same number of null values which is interesting..."
   ]
  },
  {
   "cell_type": "code",
   "execution_count": 4,
   "id": "02c28354",
   "metadata": {
    "scrolled": true
   },
   "outputs": [
    {
     "data": {
      "text/html": [
       "<div>\n",
       "<style scoped>\n",
       "    .dataframe tbody tr th:only-of-type {\n",
       "        vertical-align: middle;\n",
       "    }\n",
       "\n",
       "    .dataframe tbody tr th {\n",
       "        vertical-align: top;\n",
       "    }\n",
       "\n",
       "    .dataframe thead th {\n",
       "        text-align: right;\n",
       "    }\n",
       "</style>\n",
       "<table border=\"1\" class=\"dataframe\">\n",
       "  <thead>\n",
       "    <tr style=\"text-align: right;\">\n",
       "      <th></th>\n",
       "      <th>children</th>\n",
       "      <th>days_employed</th>\n",
       "      <th>dob_years</th>\n",
       "      <th>education</th>\n",
       "      <th>education_id</th>\n",
       "      <th>family_status</th>\n",
       "      <th>family_status_id</th>\n",
       "      <th>gender</th>\n",
       "      <th>income_type</th>\n",
       "      <th>debt</th>\n",
       "      <th>total_income</th>\n",
       "      <th>purpose</th>\n",
       "    </tr>\n",
       "  </thead>\n",
       "  <tbody>\n",
       "    <tr>\n",
       "      <th>12</th>\n",
       "      <td>0</td>\n",
       "      <td>NaN</td>\n",
       "      <td>65</td>\n",
       "      <td>secondary education</td>\n",
       "      <td>1</td>\n",
       "      <td>civil partnership</td>\n",
       "      <td>1</td>\n",
       "      <td>M</td>\n",
       "      <td>retiree</td>\n",
       "      <td>0</td>\n",
       "      <td>NaN</td>\n",
       "      <td>to have a wedding</td>\n",
       "    </tr>\n",
       "    <tr>\n",
       "      <th>26</th>\n",
       "      <td>0</td>\n",
       "      <td>NaN</td>\n",
       "      <td>41</td>\n",
       "      <td>secondary education</td>\n",
       "      <td>1</td>\n",
       "      <td>married</td>\n",
       "      <td>0</td>\n",
       "      <td>M</td>\n",
       "      <td>civil servant</td>\n",
       "      <td>0</td>\n",
       "      <td>NaN</td>\n",
       "      <td>education</td>\n",
       "    </tr>\n",
       "    <tr>\n",
       "      <th>29</th>\n",
       "      <td>0</td>\n",
       "      <td>NaN</td>\n",
       "      <td>63</td>\n",
       "      <td>secondary education</td>\n",
       "      <td>1</td>\n",
       "      <td>unmarried</td>\n",
       "      <td>4</td>\n",
       "      <td>F</td>\n",
       "      <td>retiree</td>\n",
       "      <td>0</td>\n",
       "      <td>NaN</td>\n",
       "      <td>building a real estate</td>\n",
       "    </tr>\n",
       "    <tr>\n",
       "      <th>41</th>\n",
       "      <td>0</td>\n",
       "      <td>NaN</td>\n",
       "      <td>50</td>\n",
       "      <td>secondary education</td>\n",
       "      <td>1</td>\n",
       "      <td>married</td>\n",
       "      <td>0</td>\n",
       "      <td>F</td>\n",
       "      <td>civil servant</td>\n",
       "      <td>0</td>\n",
       "      <td>NaN</td>\n",
       "      <td>second-hand car purchase</td>\n",
       "    </tr>\n",
       "    <tr>\n",
       "      <th>55</th>\n",
       "      <td>0</td>\n",
       "      <td>NaN</td>\n",
       "      <td>54</td>\n",
       "      <td>secondary education</td>\n",
       "      <td>1</td>\n",
       "      <td>civil partnership</td>\n",
       "      <td>1</td>\n",
       "      <td>F</td>\n",
       "      <td>retiree</td>\n",
       "      <td>1</td>\n",
       "      <td>NaN</td>\n",
       "      <td>to have a wedding</td>\n",
       "    </tr>\n",
       "    <tr>\n",
       "      <th>...</th>\n",
       "      <td>...</td>\n",
       "      <td>...</td>\n",
       "      <td>...</td>\n",
       "      <td>...</td>\n",
       "      <td>...</td>\n",
       "      <td>...</td>\n",
       "      <td>...</td>\n",
       "      <td>...</td>\n",
       "      <td>...</td>\n",
       "      <td>...</td>\n",
       "      <td>...</td>\n",
       "      <td>...</td>\n",
       "    </tr>\n",
       "    <tr>\n",
       "      <th>21489</th>\n",
       "      <td>2</td>\n",
       "      <td>NaN</td>\n",
       "      <td>47</td>\n",
       "      <td>Secondary Education</td>\n",
       "      <td>1</td>\n",
       "      <td>married</td>\n",
       "      <td>0</td>\n",
       "      <td>M</td>\n",
       "      <td>business</td>\n",
       "      <td>0</td>\n",
       "      <td>NaN</td>\n",
       "      <td>purchase of a car</td>\n",
       "    </tr>\n",
       "    <tr>\n",
       "      <th>21495</th>\n",
       "      <td>1</td>\n",
       "      <td>NaN</td>\n",
       "      <td>50</td>\n",
       "      <td>secondary education</td>\n",
       "      <td>1</td>\n",
       "      <td>civil partnership</td>\n",
       "      <td>1</td>\n",
       "      <td>F</td>\n",
       "      <td>employee</td>\n",
       "      <td>0</td>\n",
       "      <td>NaN</td>\n",
       "      <td>wedding ceremony</td>\n",
       "    </tr>\n",
       "    <tr>\n",
       "      <th>21497</th>\n",
       "      <td>0</td>\n",
       "      <td>NaN</td>\n",
       "      <td>48</td>\n",
       "      <td>BACHELOR'S DEGREE</td>\n",
       "      <td>0</td>\n",
       "      <td>married</td>\n",
       "      <td>0</td>\n",
       "      <td>F</td>\n",
       "      <td>business</td>\n",
       "      <td>0</td>\n",
       "      <td>NaN</td>\n",
       "      <td>building a property</td>\n",
       "    </tr>\n",
       "    <tr>\n",
       "      <th>21502</th>\n",
       "      <td>1</td>\n",
       "      <td>NaN</td>\n",
       "      <td>42</td>\n",
       "      <td>secondary education</td>\n",
       "      <td>1</td>\n",
       "      <td>married</td>\n",
       "      <td>0</td>\n",
       "      <td>F</td>\n",
       "      <td>employee</td>\n",
       "      <td>0</td>\n",
       "      <td>NaN</td>\n",
       "      <td>building a real estate</td>\n",
       "    </tr>\n",
       "    <tr>\n",
       "      <th>21510</th>\n",
       "      <td>2</td>\n",
       "      <td>NaN</td>\n",
       "      <td>28</td>\n",
       "      <td>secondary education</td>\n",
       "      <td>1</td>\n",
       "      <td>married</td>\n",
       "      <td>0</td>\n",
       "      <td>F</td>\n",
       "      <td>employee</td>\n",
       "      <td>0</td>\n",
       "      <td>NaN</td>\n",
       "      <td>car purchase</td>\n",
       "    </tr>\n",
       "  </tbody>\n",
       "</table>\n",
       "<p>2174 rows × 12 columns</p>\n",
       "</div>"
      ],
      "text/plain": [
       "       children  days_employed  dob_years            education  education_id  \\\n",
       "12            0            NaN         65  secondary education             1   \n",
       "26            0            NaN         41  secondary education             1   \n",
       "29            0            NaN         63  secondary education             1   \n",
       "41            0            NaN         50  secondary education             1   \n",
       "55            0            NaN         54  secondary education             1   \n",
       "...         ...            ...        ...                  ...           ...   \n",
       "21489         2            NaN         47  Secondary Education             1   \n",
       "21495         1            NaN         50  secondary education             1   \n",
       "21497         0            NaN         48    BACHELOR'S DEGREE             0   \n",
       "21502         1            NaN         42  secondary education             1   \n",
       "21510         2            NaN         28  secondary education             1   \n",
       "\n",
       "           family_status  family_status_id gender    income_type  debt  \\\n",
       "12     civil partnership                 1      M        retiree     0   \n",
       "26               married                 0      M  civil servant     0   \n",
       "29             unmarried                 4      F        retiree     0   \n",
       "41               married                 0      F  civil servant     0   \n",
       "55     civil partnership                 1      F        retiree     1   \n",
       "...                  ...               ...    ...            ...   ...   \n",
       "21489            married                 0      M       business     0   \n",
       "21495  civil partnership                 1      F       employee     0   \n",
       "21497            married                 0      F       business     0   \n",
       "21502            married                 0      F       employee     0   \n",
       "21510            married                 0      F       employee     0   \n",
       "\n",
       "       total_income                   purpose  \n",
       "12              NaN         to have a wedding  \n",
       "26              NaN                 education  \n",
       "29              NaN    building a real estate  \n",
       "41              NaN  second-hand car purchase  \n",
       "55              NaN         to have a wedding  \n",
       "...             ...                       ...  \n",
       "21489           NaN         purchase of a car  \n",
       "21495           NaN          wedding ceremony  \n",
       "21497           NaN       building a property  \n",
       "21502           NaN    building a real estate  \n",
       "21510           NaN              car purchase  \n",
       "\n",
       "[2174 rows x 12 columns]"
      ]
     },
     "execution_count": 4,
     "metadata": {},
     "output_type": "execute_result"
    }
   ],
   "source": [
    "#a quick look at the null values\n",
    "\n",
    "credit_df[credit_df['days_employed'].isna()]"
   ]
  },
  {
   "cell_type": "markdown",
   "id": "50c3e5d1",
   "metadata": {},
   "source": [
    "It looks like the null values in the 'days_employed' column are also null values in the 'total_income' column. Let's run a check to see."
   ]
  },
  {
   "cell_type": "code",
   "execution_count": 5,
   "id": "710a623e",
   "metadata": {},
   "outputs": [
    {
     "data": {
      "text/plain": [
       "(2174, 12)"
      ]
     },
     "execution_count": 5,
     "metadata": {},
     "output_type": "execute_result"
    }
   ],
   "source": [
    "credit_df[credit_df['days_employed'].isna()].shape \n",
    "\n",
    "#looking at the shape of null value dataframes"
   ]
  },
  {
   "cell_type": "code",
   "execution_count": 7,
   "id": "a9b96856",
   "metadata": {},
   "outputs": [
    {
     "data": {
      "text/plain": [
       "(2174, 12)"
      ]
     },
     "execution_count": 7,
     "metadata": {},
     "output_type": "execute_result"
    }
   ],
   "source": [
    "credit_df[credit_df['total_income'].isna()].shape \n",
    "\n",
    "#looking at the shape of null value dataframes"
   ]
  },
  {
   "cell_type": "code",
   "execution_count": 8,
   "id": "fddbaee7",
   "metadata": {
    "scrolled": false
   },
   "outputs": [
    {
     "data": {
      "text/plain": [
       "(2174, 12)"
      ]
     },
     "execution_count": 8,
     "metadata": {},
     "output_type": "execute_result"
    }
   ],
   "source": [
    "credit_df.loc[credit_df['days_employed'].isna()&credit_df['total_income'].isna()].shape \n",
    "\n",
    "#looking at the shape of null value dataframes"
   ]
  },
  {
   "cell_type": "markdown",
   "id": "29923a39",
   "metadata": {},
   "source": [
    "Above we looked at the shape of a dataframe of just the null values in the 'days_employed' column, a dataframe of just the null values in the 'total_income' column, and a dataframe of just the rows of data that have BOTH these columns null. What we got was that all 3 of these have the same number of rows. Which confirms that any row with a null value in 'days_employed' also has a null value in 'total_income'. (If any row didn't have both null, there would be a mismatch in the number of rows)."
   ]
  },
  {
   "cell_type": "code",
   "execution_count": 9,
   "id": "371ba37d",
   "metadata": {
    "scrolled": true
   },
   "outputs": [
    {
     "data": {
      "text/plain": [
       "0.10099883855981417"
      ]
     },
     "execution_count": 9,
     "metadata": {},
     "output_type": "execute_result"
    }
   ],
   "source": [
    "credit_df.loc[credit_df['days_employed'].isna()&credit_df['total_income'].isna()].shape[0]/credit_df.shape[0]\n",
    "\n",
    "#dividing the number of rows with null data, by the length of dataset to give what percentage of the data has null values"
   ]
  },
  {
   "cell_type": "markdown",
   "id": "51d21038",
   "metadata": {},
   "source": [
    "Looks like the null values account for about 10% of the data, let's see if there are any patterns between the null data and the other columns. Since we are investigating on having children and family status, lets look at those first."
   ]
  },
  {
   "cell_type": "code",
   "execution_count": 10,
   "id": "2c367397",
   "metadata": {
    "scrolled": true
   },
   "outputs": [
    {
     "data": {
      "text/plain": [
       " 0     1439\n",
       " 1      475\n",
       " 2      204\n",
       " 3       36\n",
       " 20       9\n",
       " 4        7\n",
       "-1        3\n",
       " 5        1\n",
       "Name: children, dtype: int64"
      ]
     },
     "execution_count": 10,
     "metadata": {},
     "output_type": "execute_result"
    }
   ],
   "source": [
    "null_data = credit_df.loc[credit_df['days_employed'].isna()&credit_df['total_income'].isna()]\n",
    "null_data['children'].value_counts()\n",
    "\n",
    "#comparing distribution of null value dataframe to entire dataframe"
   ]
  },
  {
   "cell_type": "code",
   "execution_count": 12,
   "id": "3c1c8d54",
   "metadata": {
    "scrolled": false
   },
   "outputs": [
    {
     "data": {
      "text/plain": [
       " 0     14149\n",
       " 1      4818\n",
       " 2      2055\n",
       " 3       330\n",
       " 20       76\n",
       "-1        47\n",
       " 4        41\n",
       " 5         9\n",
       "Name: children, dtype: int64"
      ]
     },
     "execution_count": 12,
     "metadata": {},
     "output_type": "execute_result"
    }
   ],
   "source": [
    "credit_df['children'].value_counts()\n",
    "\n",
    "#comparing distribution of null value dataframe to entire dataframe"
   ]
  },
  {
   "cell_type": "markdown",
   "id": "b2da5920",
   "metadata": {},
   "source": [
    "Aside from the strange values (20 kids and -1 kids, which we will deal with later), it seems the distribution of this column is similar between the rows of data that have null values and the rows of data that do not have null values."
   ]
  },
  {
   "cell_type": "code",
   "execution_count": 13,
   "id": "c0327741",
   "metadata": {
    "scrolled": true
   },
   "outputs": [
    {
     "data": {
      "text/plain": [
       "married              1237\n",
       "civil partnership     442\n",
       "unmarried             288\n",
       "divorced              112\n",
       "widow / widower        95\n",
       "Name: family_status, dtype: int64"
      ]
     },
     "execution_count": 13,
     "metadata": {},
     "output_type": "execute_result"
    }
   ],
   "source": [
    "null_data['family_status'].value_counts()\n",
    "\n",
    "#comparing distribution of null value dataframe to entire dataframe"
   ]
  },
  {
   "cell_type": "code",
   "execution_count": 14,
   "id": "04eb8951",
   "metadata": {
    "scrolled": true
   },
   "outputs": [
    {
     "data": {
      "text/plain": [
       "married              12380\n",
       "civil partnership     4177\n",
       "unmarried             2813\n",
       "divorced              1195\n",
       "widow / widower        960\n",
       "Name: family_status, dtype: int64"
      ]
     },
     "execution_count": 14,
     "metadata": {},
     "output_type": "execute_result"
    }
   ],
   "source": [
    "credit_df['family_status'].value_counts()\n",
    "\n",
    "#comparing distribution of null value dataframe to entire dataframe"
   ]
  },
  {
   "cell_type": "markdown",
   "id": "c64aea4f",
   "metadata": {},
   "source": [
    "Similarly, the distribution in 'family_status' (and therefore 'family_status_id' since they give the same information) is similar amongst the data with null values, and the data without null values."
   ]
  },
  {
   "cell_type": "code",
   "execution_count": 15,
   "id": "a641be5a",
   "metadata": {},
   "outputs": [
    {
     "data": {
      "text/plain": [
       "count    2174.000000\n",
       "mean       43.632015\n",
       "std        12.531481\n",
       "min         0.000000\n",
       "25%        34.000000\n",
       "50%        43.000000\n",
       "75%        54.000000\n",
       "max        73.000000\n",
       "Name: dob_years, dtype: float64"
      ]
     },
     "execution_count": 15,
     "metadata": {},
     "output_type": "execute_result"
    }
   ],
   "source": [
    "null_data['dob_years'].describe()\n",
    "\n",
    "#comparing distribution of null value dataframe to entire dataframe\n",
    "#we use describe here since dob_years is a numerical column"
   ]
  },
  {
   "cell_type": "code",
   "execution_count": 16,
   "id": "137a584a",
   "metadata": {},
   "outputs": [
    {
     "data": {
      "text/plain": [
       "count    21525.000000\n",
       "mean        43.293380\n",
       "std         12.574584\n",
       "min          0.000000\n",
       "25%         33.000000\n",
       "50%         42.000000\n",
       "75%         53.000000\n",
       "max         75.000000\n",
       "Name: dob_years, dtype: float64"
      ]
     },
     "execution_count": 16,
     "metadata": {},
     "output_type": "execute_result"
    }
   ],
   "source": [
    "credit_df['dob_years'].describe()\n",
    "\n",
    "#comparing distribution of null value dataframe to entire dataframe\n",
    "#we use describe here since dob_years is a numerical column"
   ]
  },
  {
   "cell_type": "code",
   "execution_count": 17,
   "id": "cb547c3a",
   "metadata": {},
   "outputs": [
    {
     "data": {
      "text/plain": [
       "F    1484\n",
       "M     690\n",
       "Name: gender, dtype: int64"
      ]
     },
     "execution_count": 17,
     "metadata": {},
     "output_type": "execute_result"
    }
   ],
   "source": [
    "null_data['gender'].value_counts()\n",
    "\n",
    "#comparing distribution of null value dataframe to entire dataframe"
   ]
  },
  {
   "cell_type": "code",
   "execution_count": 18,
   "id": "69e1bf0a",
   "metadata": {},
   "outputs": [
    {
     "data": {
      "text/plain": [
       "F      14236\n",
       "M       7288\n",
       "XNA        1\n",
       "Name: gender, dtype: int64"
      ]
     },
     "execution_count": 18,
     "metadata": {},
     "output_type": "execute_result"
    }
   ],
   "source": [
    "credit_df['gender'].value_counts()\n",
    "\n",
    "#comparing distribution of null value dataframe to entire dataframe"
   ]
  },
  {
   "cell_type": "code",
   "execution_count": 20,
   "id": "a279c93b",
   "metadata": {},
   "outputs": [
    {
     "data": {
      "text/plain": [
       "0    2004\n",
       "1     170\n",
       "Name: debt, dtype: int64"
      ]
     },
     "execution_count": 20,
     "metadata": {},
     "output_type": "execute_result"
    }
   ],
   "source": [
    "null_data['debt'].value_counts()\n",
    "\n",
    "#comparing distribution of null value dataframe to entire dataframe"
   ]
  },
  {
   "cell_type": "code",
   "execution_count": 21,
   "id": "428857c3",
   "metadata": {
    "scrolled": true
   },
   "outputs": [
    {
     "data": {
      "text/plain": [
       "0    19784\n",
       "1     1741\n",
       "Name: debt, dtype: int64"
      ]
     },
     "execution_count": 21,
     "metadata": {},
     "output_type": "execute_result"
    }
   ],
   "source": [
    "credit_df['debt'].value_counts()\n",
    "\n",
    "#comparing distribution of null value dataframe to entire dataframe"
   ]
  },
  {
   "cell_type": "code",
   "execution_count": 22,
   "id": "d9d8b5b9",
   "metadata": {
    "scrolled": true
   },
   "outputs": [
    {
     "data": {
      "text/plain": [
       "1    1540\n",
       "0     544\n",
       "2      69\n",
       "3      21\n",
       "Name: education_id, dtype: int64"
      ]
     },
     "execution_count": 22,
     "metadata": {},
     "output_type": "execute_result"
    }
   ],
   "source": [
    "null_data['education_id'].value_counts()\n",
    "\n",
    "#comparing distribution of null value dataframe to entire dataframe"
   ]
  },
  {
   "cell_type": "code",
   "execution_count": 23,
   "id": "f0a8e1c4",
   "metadata": {
    "scrolled": true
   },
   "outputs": [
    {
     "data": {
      "text/plain": [
       "1    15233\n",
       "0     5260\n",
       "2      744\n",
       "3      282\n",
       "4        6\n",
       "Name: education_id, dtype: int64"
      ]
     },
     "execution_count": 23,
     "metadata": {},
     "output_type": "execute_result"
    }
   ],
   "source": [
    "credit_df['education_id'].value_counts()\n",
    "\n",
    "#comparing distribution of null value dataframe to entire dataframe"
   ]
  },
  {
   "cell_type": "code",
   "execution_count": 24,
   "id": "3c70c8d2",
   "metadata": {},
   "outputs": [
    {
     "data": {
      "text/plain": [
       "employee         1105\n",
       "business          508\n",
       "retiree           413\n",
       "civil servant     147\n",
       "entrepreneur        1\n",
       "Name: income_type, dtype: int64"
      ]
     },
     "execution_count": 24,
     "metadata": {},
     "output_type": "execute_result"
    }
   ],
   "source": [
    "null_data['income_type'].value_counts()\n",
    "\n",
    "#comparing distribution of null value dataframe to entire dataframe"
   ]
  },
  {
   "cell_type": "code",
   "execution_count": 25,
   "id": "ccb87782",
   "metadata": {
    "scrolled": false
   },
   "outputs": [
    {
     "data": {
      "text/plain": [
       "employee                       11119\n",
       "business                        5085\n",
       "retiree                         3856\n",
       "civil servant                   1459\n",
       "unemployed                         2\n",
       "entrepreneur                       2\n",
       "student                            1\n",
       "paternity / maternity leave        1\n",
       "Name: income_type, dtype: int64"
      ]
     },
     "execution_count": 25,
     "metadata": {},
     "output_type": "execute_result"
    }
   ],
   "source": [
    "credit_df['income_type'].value_counts()\n",
    "\n",
    "#comparing distribution of null value dataframe to entire dataframe"
   ]
  },
  {
   "cell_type": "markdown",
   "id": "c9410649",
   "metadata": {},
   "source": [
    "Above, we looked at the distribution of every other column in both a dataset with only the null values and compared it to the entire dataset in order to try to establish a pattern about why these values were missing.\n",
    "\n",
    "At first, we thought maybe the reasoning behind the null values is that the customers were unemployed, or weren't currently making an income, but upon seeing the distribution of the 'income_type' column, we saw that it was very similar to the distribution of the entire data set. Aside from having null values, this 10% of the data is indistinguishable from the rest of the data set, and so we cannot establish a pattern. These datapoints however still contain other data, including the variables we want to focus on; children and marital status, in relation to the debt column; so we do not want to drop them. Let's look at the columns where these null values exist, in order to determine what the best way to fill these values are. We will also take the time to address the strange values we saw while checking the distribution of the other columns."
   ]
  },
  {
   "cell_type": "markdown",
   "id": "134f08fa",
   "metadata": {},
   "source": [
    "## 2. Strange Values in the Data"
   ]
  },
  {
   "cell_type": "markdown",
   "id": "e445514c",
   "metadata": {},
   "source": [
    "### A) days_employed column and missing values\n",
    "\n",
    "We are investigating this column first in order to fill the null values in the data set which exist in this column."
   ]
  },
  {
   "cell_type": "code",
   "execution_count": 26,
   "id": "1a3a9ecd",
   "metadata": {},
   "outputs": [
    {
     "data": {
      "text/plain": [
       "count     19351.000000\n",
       "mean      63046.497661\n",
       "std      140827.311974\n",
       "min      -18388.949901\n",
       "25%       -2747.423625\n",
       "50%       -1203.369529\n",
       "75%        -291.095954\n",
       "max      401755.400475\n",
       "Name: days_employed, dtype: float64"
      ]
     },
     "execution_count": 26,
     "metadata": {},
     "output_type": "execute_result"
    }
   ],
   "source": [
    "credit_df['days_employed'].describe()\n",
    "\n",
    "#using describe to check the distribution of the 'days_employed' column because it is numerical"
   ]
  },
  {
   "cell_type": "markdown",
   "id": "d46d506e",
   "metadata": {},
   "source": [
    "It looks like the majority of these values are negative, this was probably caused by an error in the gathering of the dates It is likely that the true value is just the absolute value of these negative numbers. But the average is still positive, which tells us that there are positive values here that are very large in magnitude(outliers). Now that we recognize that there are outliers, let's replace our null values with the median, after which, we will investigate the negative values and address the outliers."
   ]
  },
  {
   "cell_type": "code",
   "execution_count": 27,
   "id": "8a4a3be0",
   "metadata": {
    "scrolled": true
   },
   "outputs": [
    {
     "data": {
      "text/plain": [
       "count     21525.000000\n",
       "mean      56557.335698\n",
       "std      134922.319298\n",
       "min      -18388.949901\n",
       "25%       -2518.168900\n",
       "50%       -1203.369529\n",
       "75%        -385.106616\n",
       "max      401755.400475\n",
       "Name: days_employed, dtype: float64"
      ]
     },
     "execution_count": 27,
     "metadata": {},
     "output_type": "execute_result"
    }
   ],
   "source": [
    "credit_df['days_employed'].fillna(credit_df['days_employed'].median(),inplace=True)\n",
    "credit_df['days_employed'].describe()\n",
    "\n",
    "#filled null with median, and checked to see if changes persisted"
   ]
  },
  {
   "cell_type": "markdown",
   "id": "63fbc299",
   "metadata": {},
   "source": [
    "Next we will investigate the large positive outliers."
   ]
  },
  {
   "cell_type": "code",
   "execution_count": 28,
   "id": "9efd7ec8",
   "metadata": {},
   "outputs": [
    {
     "data": {
      "text/plain": [
       "328728.72060451825"
      ]
     },
     "execution_count": 28,
     "metadata": {},
     "output_type": "execute_result"
    }
   ],
   "source": [
    "credit_df[credit_df['days_employed'] > 0]['days_employed'].min()\n",
    "\n",
    "#code to get the smallest value above 0 in the days employed column"
   ]
  },
  {
   "cell_type": "markdown",
   "id": "f3bf27f1",
   "metadata": {},
   "source": [
    "Looks like the smallest value over 0 is about 329729 days...which is over 900years! Well beyond the lifespan of a human. these are all major outliers and are probably a mistake."
   ]
  },
  {
   "cell_type": "code",
   "execution_count": 29,
   "id": "3abab111",
   "metadata": {},
   "outputs": [
    {
     "data": {
      "text/plain": [
       "0.16004645760743322"
      ]
     },
     "execution_count": 29,
     "metadata": {},
     "output_type": "execute_result"
    }
   ],
   "source": [
    "credit_df[credit_df['days_employed'] > 0].shape[0]/credit_df.shape[0]\n",
    "\n",
    "#dividing number of values above 0, by length of data frame to get what percentage of this dataframe have days employed\n",
    "#values that are illogical"
   ]
  },
  {
   "cell_type": "markdown",
   "id": "d86b19e2",
   "metadata": {},
   "source": [
    "These errors account for about 16% of the data, that's a huge portion! Being that these are all huge outliers - let's replace these values with the median. We will also do this for the null values in this column."
   ]
  },
  {
   "cell_type": "code",
   "execution_count": 30,
   "id": "8541fd7d",
   "metadata": {},
   "outputs": [],
   "source": [
    "def repWithMedian(number):\n",
    "    \"\"\"\n",
    "    Replaces a number that is greater than 0 with the median value of the 'days_employed' column\n",
    "    \"\"\"\n",
    "    if number > 0:\n",
    "        number = credit_df['days_employed'].median()\n",
    "    return number\n",
    "\n",
    "#function to help me fix days_employed column"
   ]
  },
  {
   "cell_type": "code",
   "execution_count": 31,
   "id": "0bf392ed",
   "metadata": {},
   "outputs": [],
   "source": [
    "credit_df['days_employed'] = credit_df['days_employed'].apply(repWithMedian)\n",
    "\n",
    "#applying the function"
   ]
  },
  {
   "cell_type": "code",
   "execution_count": 32,
   "id": "7401176f",
   "metadata": {},
   "outputs": [
    {
     "data": {
      "text/plain": [
       "count    21525.000000\n",
       "mean     -2052.906146\n",
       "std       2044.116204\n",
       "min     -18388.949901\n",
       "25%      -2518.168900\n",
       "50%      -1203.369529\n",
       "75%      -1025.608174\n",
       "max        -24.141633\n",
       "Name: days_employed, dtype: float64"
      ]
     },
     "execution_count": 32,
     "metadata": {},
     "output_type": "execute_result"
    }
   ],
   "source": [
    "credit_df['days_employed'].describe()\n",
    "\n",
    "#checking to make sure function worked and changes persisted"
   ]
  },
  {
   "cell_type": "markdown",
   "id": "e7d7575f",
   "metadata": {},
   "source": [
    "Now that we've replaced them with more realistic values, let's make them all positive."
   ]
  },
  {
   "cell_type": "code",
   "execution_count": 33,
   "id": "8d610c9d",
   "metadata": {},
   "outputs": [
    {
     "data": {
      "text/plain": [
       "count    21525.000000\n",
       "mean      2052.906146\n",
       "std       2044.116204\n",
       "min         24.141633\n",
       "25%       1025.608174\n",
       "50%       1203.369529\n",
       "75%       2518.168900\n",
       "max      18388.949901\n",
       "Name: days_employed, dtype: float64"
      ]
     },
     "execution_count": 33,
     "metadata": {},
     "output_type": "execute_result"
    }
   ],
   "source": [
    "credit_df['days_employed'] = credit_df['days_employed'].apply(abs)\n",
    "credit_df['days_employed'].describe()\n",
    "\n",
    "#changing the values from negative to positive."
   ]
  },
  {
   "cell_type": "markdown",
   "id": "be3c6ee4",
   "metadata": {},
   "source": [
    "Let's move on to look at another column"
   ]
  },
  {
   "cell_type": "markdown",
   "id": "68f0ee09",
   "metadata": {},
   "source": [
    "### B) total_income column and missing values"
   ]
  },
  {
   "cell_type": "code",
   "execution_count": 34,
   "id": "9f8a353d",
   "metadata": {
    "scrolled": true
   },
   "outputs": [
    {
     "data": {
      "text/plain": [
       "count     19351.000000\n",
       "mean      26787.568355\n",
       "std       16475.450632\n",
       "min        3306.762000\n",
       "25%       16488.504500\n",
       "50%       23202.870000\n",
       "75%       32549.611000\n",
       "max      362496.645000\n",
       "Name: total_income, dtype: float64"
      ]
     },
     "execution_count": 34,
     "metadata": {},
     "output_type": "execute_result"
    }
   ],
   "source": [
    "credit_df['total_income'].describe()\n",
    "\n",
    "#using describe to check the distribution of the 'days_employed' column because it is numerical"
   ]
  },
  {
   "cell_type": "markdown",
   "id": "e791f1d6",
   "metadata": {},
   "source": [
    "Since this is the other column with missing values, we want to replace them with the median. However we want to account for the difference in occupation for different people, since people in different occupations tend to make vastly different incomes."
   ]
  },
  {
   "cell_type": "code",
   "execution_count": 35,
   "id": "d7f13c07",
   "metadata": {
    "scrolled": false
   },
   "outputs": [
    {
     "data": {
      "text/plain": [
       "employee                       11119\n",
       "business                        5085\n",
       "retiree                         3856\n",
       "civil servant                   1459\n",
       "unemployed                         2\n",
       "entrepreneur                       2\n",
       "student                            1\n",
       "paternity / maternity leave        1\n",
       "Name: income_type, dtype: int64"
      ]
     },
     "execution_count": 35,
     "metadata": {},
     "output_type": "execute_result"
    }
   ],
   "source": [
    "credit_df['income_type'].value_counts()\n",
    "\n",
    "#seeing the different types of income"
   ]
  },
  {
   "cell_type": "code",
   "execution_count": 36,
   "id": "3833ea92",
   "metadata": {
    "scrolled": false
   },
   "outputs": [
    {
     "data": {
      "text/plain": [
       "income_type\n",
       "business                       27577.2720\n",
       "civil servant                  24071.6695\n",
       "employee                       22815.1035\n",
       "entrepreneur                   79866.1030\n",
       "paternity / maternity leave     8612.6610\n",
       "retiree                        18962.3180\n",
       "student                        15712.2600\n",
       "unemployed                     21014.3605\n",
       "Name: total_income, dtype: float64"
      ]
     },
     "execution_count": 36,
     "metadata": {},
     "output_type": "execute_result"
    }
   ],
   "source": [
    "credit_df.groupby('income_type')['total_income'].median()\n",
    "\n",
    "#checking the median of each income_type category"
   ]
  },
  {
   "cell_type": "code",
   "execution_count": 37,
   "id": "c8940c1f",
   "metadata": {},
   "outputs": [],
   "source": [
    "median_incomes = credit_df.groupby(by='income_type')['total_income'].median()\n",
    "\n",
    "#for easier reference to the different medians in the next lines of code"
   ]
  },
  {
   "cell_type": "code",
   "execution_count": 38,
   "id": "2472b827",
   "metadata": {},
   "outputs": [],
   "source": [
    "inc_type_list = ['business', 'civil servant', 'employee', 'entrepreneur', \n",
    "                 'paternity / maternity leave', 'retiree', 'student', 'unemployed']\n",
    "\n",
    "#making a list of each income_type in the same order as the 'median_incomes' variable"
   ]
  },
  {
   "cell_type": "code",
   "execution_count": 40,
   "id": "efca0a8c",
   "metadata": {},
   "outputs": [],
   "source": [
    "for i, inc_type in enumerate(inc_type_list):\n",
    "    credit_df.loc[credit_df['income_type']==inc_type,'total_income'] = credit_df.loc[credit_df['income_type']==inc_type,'total_income'].fillna(median_incomes[i])\n",
    "\n",
    "#for loop which iterates over the list of income types, and replaces fills null \n",
    "#values of that income type with the respective median of that income type"
   ]
  },
  {
   "cell_type": "code",
   "execution_count": 41,
   "id": "081b0725",
   "metadata": {
    "scrolled": true
   },
   "outputs": [
    {
     "data": {
      "text/plain": [
       "0"
      ]
     },
     "execution_count": 41,
     "metadata": {},
     "output_type": "execute_result"
    }
   ],
   "source": [
    "credit_df['total_income'].isna().sum()\n",
    "\n",
    "#checking to make sure that there are no null values"
   ]
  },
  {
   "cell_type": "markdown",
   "id": "741c57e3",
   "metadata": {},
   "source": [
    "Now that we've dealt with the null values, let's look at the odd values in the other columns"
   ]
  },
  {
   "cell_type": "markdown",
   "id": "48c16c6d",
   "metadata": {},
   "source": [
    "### C) gender column and strange values"
   ]
  },
  {
   "cell_type": "code",
   "execution_count": 42,
   "id": "6a17713e",
   "metadata": {
    "scrolled": true
   },
   "outputs": [
    {
     "data": {
      "text/plain": [
       "F      14236\n",
       "M       7288\n",
       "XNA        1\n",
       "Name: gender, dtype: int64"
      ]
     },
     "execution_count": 42,
     "metadata": {},
     "output_type": "execute_result"
    }
   ],
   "source": [
    "credit_df['gender'].value_counts()\n",
    "#checking distribution of gender column"
   ]
  },
  {
   "cell_type": "markdown",
   "id": "c8a25ad0",
   "metadata": {},
   "source": [
    "We have a weird 'XNA' value, since its only occurring once, we will drop this error."
   ]
  },
  {
   "cell_type": "code",
   "execution_count": 43,
   "id": "061ecf49",
   "metadata": {},
   "outputs": [
    {
     "data": {
      "text/plain": [
       "F    14236\n",
       "M     7288\n",
       "Name: gender, dtype: int64"
      ]
     },
     "execution_count": 43,
     "metadata": {},
     "output_type": "execute_result"
    }
   ],
   "source": [
    "credit_df['gender'].replace('XNA',np.nan,inplace=True)\n",
    "credit_df['gender'].value_counts()\n",
    "\n",
    "#dropping rows where value for gender is XNA, and then checking to ensure changes persisted"
   ]
  },
  {
   "cell_type": "markdown",
   "id": "3cf2410a",
   "metadata": {},
   "source": [
    "### D) dob_years column and strange values"
   ]
  },
  {
   "cell_type": "code",
   "execution_count": 44,
   "id": "7c0981ef",
   "metadata": {},
   "outputs": [
    {
     "data": {
      "text/plain": [
       "35    617\n",
       "40    609\n",
       "41    607\n",
       "34    603\n",
       "38    598\n",
       "42    597\n",
       "33    581\n",
       "39    573\n",
       "31    560\n",
       "36    555\n",
       "44    547\n",
       "29    545\n",
       "30    540\n",
       "48    538\n",
       "37    537\n",
       "50    514\n",
       "43    513\n",
       "32    510\n",
       "49    508\n",
       "28    503\n",
       "45    497\n",
       "27    493\n",
       "56    487\n",
       "52    484\n",
       "47    480\n",
       "54    479\n",
       "46    475\n",
       "58    461\n",
       "57    460\n",
       "53    459\n",
       "51    448\n",
       "59    444\n",
       "55    443\n",
       "26    408\n",
       "60    377\n",
       "25    357\n",
       "61    355\n",
       "62    352\n",
       "63    269\n",
       "64    265\n",
       "24    264\n",
       "23    254\n",
       "65    194\n",
       "22    183\n",
       "66    183\n",
       "67    167\n",
       "21    111\n",
       "0     101\n",
       "68     99\n",
       "69     85\n",
       "70     65\n",
       "71     58\n",
       "20     51\n",
       "72     33\n",
       "19     14\n",
       "73      8\n",
       "74      6\n",
       "75      1\n",
       "Name: dob_years, dtype: int64"
      ]
     },
     "execution_count": 44,
     "metadata": {},
     "output_type": "execute_result"
    }
   ],
   "source": [
    "credit_df['dob_years'].value_counts()\n",
    "\n",
    "#checking distribution of dob_years column"
   ]
  },
  {
   "cell_type": "markdown",
   "id": "6436b9d4",
   "metadata": {},
   "source": [
    "Looks like there are about 101 entries, saying that theyre 0 years old. How many others claim that they are under 18?"
   ]
  },
  {
   "cell_type": "code",
   "execution_count": 45,
   "id": "e69ed462",
   "metadata": {},
   "outputs": [
    {
     "data": {
      "text/plain": [
       "101"
      ]
     },
     "execution_count": 45,
     "metadata": {},
     "output_type": "execute_result"
    }
   ],
   "source": [
    "credit_df[credit_df['dob_years']<18].shape[0]\n",
    "\n",
    "#checking how many of these clients are under 18 in order to see where there are errors"
   ]
  },
  {
   "cell_type": "markdown",
   "id": "49c27916",
   "metadata": {},
   "source": [
    "Only those 101 who are age \"0\". Since there aren't many outliers in this column, let's replace these age 0s with the mean. Since the mean won't be an integer, Let's wrap it in int()"
   ]
  },
  {
   "cell_type": "code",
   "execution_count": 46,
   "id": "992c6c6b",
   "metadata": {},
   "outputs": [],
   "source": [
    "credit_df['dob_years'].replace(0,int(credit_df['dob_years'].mean()),inplace=True)\n",
    "\n",
    "#replacing these 0 values with the mean value, and rounding it with the int() function"
   ]
  },
  {
   "cell_type": "code",
   "execution_count": 48,
   "id": "cb7870db",
   "metadata": {},
   "outputs": [
    {
     "data": {
      "text/plain": [
       "35    617\n",
       "43    614\n",
       "40    609\n",
       "41    607\n",
       "34    603\n",
       "38    598\n",
       "42    597\n",
       "33    581\n",
       "39    573\n",
       "31    560\n",
       "36    555\n",
       "44    547\n",
       "29    545\n",
       "30    540\n",
       "48    538\n",
       "37    537\n",
       "50    514\n",
       "32    510\n",
       "49    508\n",
       "28    503\n",
       "45    497\n",
       "27    493\n",
       "56    487\n",
       "52    484\n",
       "47    480\n",
       "54    479\n",
       "46    475\n",
       "58    461\n",
       "57    460\n",
       "53    459\n",
       "51    448\n",
       "59    444\n",
       "55    443\n",
       "26    408\n",
       "60    377\n",
       "25    357\n",
       "61    355\n",
       "62    352\n",
       "63    269\n",
       "64    265\n",
       "24    264\n",
       "23    254\n",
       "65    194\n",
       "66    183\n",
       "22    183\n",
       "67    167\n",
       "21    111\n",
       "68     99\n",
       "69     85\n",
       "70     65\n",
       "71     58\n",
       "20     51\n",
       "72     33\n",
       "19     14\n",
       "73      8\n",
       "74      6\n",
       "75      1\n",
       "Name: dob_years, dtype: int64"
      ]
     },
     "execution_count": 48,
     "metadata": {},
     "output_type": "execute_result"
    }
   ],
   "source": [
    "credit_df['dob_years'].value_counts()\n",
    "\n",
    "#checking if the changes persisted"
   ]
  },
  {
   "cell_type": "markdown",
   "id": "6ee84307",
   "metadata": {},
   "source": [
    "Let's move on to another column."
   ]
  },
  {
   "cell_type": "markdown",
   "id": "f10d425a",
   "metadata": {},
   "source": [
    "### E) education column and strange values"
   ]
  },
  {
   "cell_type": "code",
   "execution_count": 49,
   "id": "e0c58e6e",
   "metadata": {},
   "outputs": [
    {
     "data": {
      "text/plain": [
       "secondary education    13750\n",
       "bachelor's degree       4718\n",
       "SECONDARY EDUCATION      772\n",
       "Secondary Education      711\n",
       "some college             668\n",
       "BACHELOR'S DEGREE        274\n",
       "Bachelor's Degree        268\n",
       "primary education        250\n",
       "Some College              47\n",
       "SOME COLLEGE              29\n",
       "PRIMARY EDUCATION         17\n",
       "Primary Education         15\n",
       "graduate degree            4\n",
       "Graduate Degree            1\n",
       "GRADUATE DEGREE            1\n",
       "Name: education, dtype: int64"
      ]
     },
     "execution_count": 49,
     "metadata": {},
     "output_type": "execute_result"
    }
   ],
   "source": [
    "credit_df['education'].value_counts()\n",
    "\n",
    "#checking the distribution of the education column"
   ]
  },
  {
   "cell_type": "markdown",
   "id": "8b20c1f4",
   "metadata": {},
   "source": [
    "There's a lot of issues with capitalization here, lets fix them."
   ]
  },
  {
   "cell_type": "code",
   "execution_count": 50,
   "id": "872c6448",
   "metadata": {},
   "outputs": [
    {
     "data": {
      "text/plain": [
       "secondary education    15233\n",
       "bachelor's degree       5260\n",
       "some college             744\n",
       "primary education        282\n",
       "graduate degree            6\n",
       "Name: education, dtype: int64"
      ]
     },
     "execution_count": 50,
     "metadata": {},
     "output_type": "execute_result"
    }
   ],
   "source": [
    "education_corrections = {\n",
    "    'SECONDARY EDUCATION':'secondary education',\n",
    "    'Secondary Education':'secondary education',\n",
    "    \"BACHELOR'S DEGREE\":\"bachelor's degree\",\n",
    "    \"Bachelor's Degree\":\"bachelor's degree\",\n",
    "    'Some College':'some college',\n",
    "    'SOME COLLEGE':'some college',\n",
    "    'PRIMARY EDUCATION':'primary education',\n",
    "    'Primary Education':'primary education',\n",
    "    'Graduate Degree':'graduate degree',\n",
    "    'GRADUATE DEGREE':'graduate degree'}\n",
    "\n",
    "credit_df['education'].replace(education_corrections, inplace=True)\n",
    "\n",
    "credit_df['education'].value_counts()\n",
    "#replacing the education column to standardized categories, and checking if the changes persisted"
   ]
  },
  {
   "cell_type": "markdown",
   "id": "2ad495fd",
   "metadata": {},
   "source": [
    "Much better, lets move on to the next column."
   ]
  },
  {
   "cell_type": "markdown",
   "id": "6cfd197d",
   "metadata": {},
   "source": [
    "### F) purpose column and strange values"
   ]
  },
  {
   "cell_type": "code",
   "execution_count": 51,
   "id": "f66689bc",
   "metadata": {},
   "outputs": [
    {
     "data": {
      "text/plain": [
       "wedding ceremony                            797\n",
       "having a wedding                            777\n",
       "to have a wedding                           774\n",
       "real estate transactions                    676\n",
       "buy commercial real estate                  664\n",
       "buying property for renting out             653\n",
       "housing transactions                        653\n",
       "transactions with commercial real estate    651\n",
       "purchase of the house                       647\n",
       "housing                                     647\n",
       "purchase of the house for my family         641\n",
       "construction of own property                635\n",
       "property                                    634\n",
       "transactions with my real estate            630\n",
       "building a real estate                      626\n",
       "buy real estate                             624\n",
       "building a property                         620\n",
       "purchase of my own house                    620\n",
       "housing renovation                          612\n",
       "buy residential real estate                 607\n",
       "buying my own car                           505\n",
       "going to university                         496\n",
       "car                                         495\n",
       "second-hand car purchase                    489\n",
       "to own a car                                480\n",
       "buying a second-hand car                    479\n",
       "cars                                        478\n",
       "to buy a car                                472\n",
       "supplementary education                     462\n",
       "car purchase                                462\n",
       "purchase of a car                           455\n",
       "university education                        453\n",
       "education                                   447\n",
       "to get a supplementary education            447\n",
       "getting an education                        443\n",
       "profile education                           436\n",
       "getting higher education                    426\n",
       "to become educated                          412\n",
       "Name: purpose, dtype: int64"
      ]
     },
     "execution_count": 51,
     "metadata": {},
     "output_type": "execute_result"
    }
   ],
   "source": [
    "credit_df['purpose'].value_counts()\n",
    "\n",
    "#seeing distribution of purpose column"
   ]
  },
  {
   "cell_type": "markdown",
   "id": "db9443da",
   "metadata": {},
   "source": [
    "I want to categorize this data better in to just 4 categories, real estate, wedding, car, and education"
   ]
  },
  {
   "cell_type": "code",
   "execution_count": 52,
   "id": "a3759d9b",
   "metadata": {},
   "outputs": [],
   "source": [
    "def categorize(x):\n",
    "    if \"wedding\" in x:\n",
    "        return \"wedding\"\n",
    "    elif \"real estate\" in x:\n",
    "        return \"real estate\"\n",
    "    elif \"house\" in x:\n",
    "        return \"real estate\"\n",
    "    elif \"property\" in x:\n",
    "        return \"real estate\"\n",
    "    elif \"housing\" in x:\n",
    "        return \"real estate\"\n",
    "    elif \"car\" in x:\n",
    "        return \"car\"\n",
    "    elif \"university\" in x:\n",
    "        return \"education\"\n",
    "    elif \"education\" in x:\n",
    "        return \"education\"\n",
    "    elif \"educated\" in x:\n",
    "        return \"education\"\n",
    "    else:\n",
    "        return \"None\"\n",
    "    \n",
    "#function to help categorize the purpose column"
   ]
  },
  {
   "cell_type": "code",
   "execution_count": 53,
   "id": "62e24e83",
   "metadata": {},
   "outputs": [],
   "source": [
    "credit_df['purpose_cat'] = credit_df['purpose'].apply(categorize)\n",
    "\n",
    "#applying the function"
   ]
  },
  {
   "cell_type": "code",
   "execution_count": 54,
   "id": "a94f6f6f",
   "metadata": {
    "scrolled": true
   },
   "outputs": [
    {
     "data": {
      "text/plain": [
       "real estate    10840\n",
       "car             4315\n",
       "education       4022\n",
       "wedding         2348\n",
       "Name: purpose_cat, dtype: int64"
      ]
     },
     "execution_count": 54,
     "metadata": {},
     "output_type": "execute_result"
    }
   ],
   "source": [
    "credit_df['purpose_cat'].value_counts()\n",
    "\n",
    "#checking to make sure the function works"
   ]
  },
  {
   "cell_type": "markdown",
   "id": "fb6c0df7",
   "metadata": {},
   "source": [
    "Much better, now onto the next column"
   ]
  },
  {
   "cell_type": "markdown",
   "id": "6f126b44",
   "metadata": {},
   "source": [
    "### G) children column and strange values"
   ]
  },
  {
   "cell_type": "code",
   "execution_count": 55,
   "id": "a4281383",
   "metadata": {
    "scrolled": true
   },
   "outputs": [
    {
     "data": {
      "text/plain": [
       " 0     14149\n",
       " 1      4818\n",
       " 2      2055\n",
       " 3       330\n",
       " 20       76\n",
       "-1        47\n",
       " 4        41\n",
       " 5         9\n",
       "Name: children, dtype: int64"
      ]
     },
     "execution_count": 55,
     "metadata": {},
     "output_type": "execute_result"
    }
   ],
   "source": [
    "credit_df['children'].value_counts()\n",
    "\n",
    "#checking the distribution of the children column"
   ]
  },
  {
   "cell_type": "code",
   "execution_count": 56,
   "id": "8377f32d",
   "metadata": {},
   "outputs": [
    {
     "data": {
      "text/plain": [
       "0.005714285714285714"
      ]
     },
     "execution_count": 56,
     "metadata": {},
     "output_type": "execute_result"
    }
   ],
   "source": [
    "(76+47)/credit_df.shape[0]\n",
    "\n",
    "#checking what percentage of the data are made up by the error values of 20 and -1"
   ]
  },
  {
   "cell_type": "markdown",
   "id": "042ccc9d",
   "metadata": {},
   "source": [
    "Looks like there are some errors here. I'm sure -1 children is a mistake that was supposed to be 1 child, and 20 children was a mistake that is meant to be 2 children. It is highly unlikely that there's such a huge jump to 20 children, and no one has in between 5 and 20 children. Both these values are mistakes.\n",
    "\n",
    "Let's replace them with appropriate values."
   ]
  },
  {
   "cell_type": "code",
   "execution_count": 57,
   "id": "3d4c4a97",
   "metadata": {},
   "outputs": [],
   "source": [
    "credit_df['children'].replace({\n",
    "    20:2,\n",
    "    -1:1}, inplace=True)\n",
    "\n",
    "#replacing the error values with other values"
   ]
  },
  {
   "cell_type": "code",
   "execution_count": 58,
   "id": "c3820d93",
   "metadata": {},
   "outputs": [
    {
     "data": {
      "text/plain": [
       "0    14149\n",
       "1     4865\n",
       "2     2131\n",
       "3      330\n",
       "4       41\n",
       "5        9\n",
       "Name: children, dtype: int64"
      ]
     },
     "execution_count": 58,
     "metadata": {},
     "output_type": "execute_result"
    }
   ],
   "source": [
    "credit_df['children'].value_counts()\n",
    "\n",
    "#checking to ensure changes persisted"
   ]
  },
  {
   "cell_type": "markdown",
   "id": "a2b245e4",
   "metadata": {},
   "source": [
    "### H) Miscellaneous Columns with no strange values"
   ]
  },
  {
   "cell_type": "code",
   "execution_count": 59,
   "id": "6e2abef6",
   "metadata": {},
   "outputs": [
    {
     "data": {
      "text/plain": [
       "1    15233\n",
       "0     5260\n",
       "2      744\n",
       "3      282\n",
       "4        6\n",
       "Name: education_id, dtype: int64"
      ]
     },
     "execution_count": 59,
     "metadata": {},
     "output_type": "execute_result"
    }
   ],
   "source": [
    "credit_df['education_id'].value_counts()\n",
    "\n",
    "#checking distribution for strange values"
   ]
  },
  {
   "cell_type": "code",
   "execution_count": 60,
   "id": "9e880571",
   "metadata": {},
   "outputs": [
    {
     "data": {
      "text/plain": [
       "married              12380\n",
       "civil partnership     4177\n",
       "unmarried             2813\n",
       "divorced              1195\n",
       "widow / widower        960\n",
       "Name: family_status, dtype: int64"
      ]
     },
     "execution_count": 60,
     "metadata": {},
     "output_type": "execute_result"
    }
   ],
   "source": [
    "credit_df['family_status'].value_counts()\n",
    "\n",
    "#checking distribution for strange values"
   ]
  },
  {
   "cell_type": "code",
   "execution_count": 61,
   "id": "d8b935b3",
   "metadata": {},
   "outputs": [
    {
     "data": {
      "text/plain": [
       "0    12380\n",
       "1     4177\n",
       "4     2813\n",
       "3     1195\n",
       "2      960\n",
       "Name: family_status_id, dtype: int64"
      ]
     },
     "execution_count": 61,
     "metadata": {},
     "output_type": "execute_result"
    }
   ],
   "source": [
    "credit_df['family_status_id'].value_counts()\n",
    "\n",
    "#checking distribution for strange values"
   ]
  },
  {
   "cell_type": "code",
   "execution_count": 62,
   "id": "c0b4b2e7",
   "metadata": {},
   "outputs": [
    {
     "data": {
      "text/plain": [
       "employee                       11119\n",
       "business                        5085\n",
       "retiree                         3856\n",
       "civil servant                   1459\n",
       "unemployed                         2\n",
       "entrepreneur                       2\n",
       "student                            1\n",
       "paternity / maternity leave        1\n",
       "Name: income_type, dtype: int64"
      ]
     },
     "execution_count": 62,
     "metadata": {},
     "output_type": "execute_result"
    }
   ],
   "source": [
    "credit_df['income_type'].value_counts()\n",
    "\n",
    "#checking distribution for strange values"
   ]
  },
  {
   "cell_type": "code",
   "execution_count": 63,
   "id": "f05a9106",
   "metadata": {},
   "outputs": [
    {
     "data": {
      "text/plain": [
       "0    19784\n",
       "1     1741\n",
       "Name: debt, dtype: int64"
      ]
     },
     "execution_count": 63,
     "metadata": {},
     "output_type": "execute_result"
    }
   ],
   "source": [
    "credit_df['debt'].value_counts()\n",
    "\n",
    "#checking distribution for strange values"
   ]
  },
  {
   "cell_type": "markdown",
   "id": "9c4419b0",
   "metadata": {},
   "source": [
    "Nothing wrong or suspicious in any of the above columns, let's move on."
   ]
  },
  {
   "cell_type": "markdown",
   "id": "d5803091",
   "metadata": {},
   "source": [
    "## Duplicates"
   ]
  },
  {
   "cell_type": "markdown",
   "id": "62ff7968",
   "metadata": {},
   "source": [
    "Last thing before moving on, check for duplicates!"
   ]
  },
  {
   "cell_type": "code",
   "execution_count": 64,
   "id": "8554d355",
   "metadata": {
    "scrolled": true
   },
   "outputs": [
    {
     "data": {
      "text/plain": [
       "71"
      ]
     },
     "execution_count": 64,
     "metadata": {},
     "output_type": "execute_result"
    }
   ],
   "source": [
    "credit_df.duplicated().sum()\n",
    "\n",
    "#check for duplicates"
   ]
  },
  {
   "cell_type": "code",
   "execution_count": 66,
   "id": "1b1ecfaa",
   "metadata": {},
   "outputs": [
    {
     "data": {
      "text/html": [
       "<div>\n",
       "<style scoped>\n",
       "    .dataframe tbody tr th:only-of-type {\n",
       "        vertical-align: middle;\n",
       "    }\n",
       "\n",
       "    .dataframe tbody tr th {\n",
       "        vertical-align: top;\n",
       "    }\n",
       "\n",
       "    .dataframe thead th {\n",
       "        text-align: right;\n",
       "    }\n",
       "</style>\n",
       "<table border=\"1\" class=\"dataframe\">\n",
       "  <thead>\n",
       "    <tr style=\"text-align: right;\">\n",
       "      <th></th>\n",
       "      <th>children</th>\n",
       "      <th>days_employed</th>\n",
       "      <th>dob_years</th>\n",
       "      <th>education</th>\n",
       "      <th>education_id</th>\n",
       "      <th>family_status</th>\n",
       "      <th>family_status_id</th>\n",
       "      <th>gender</th>\n",
       "      <th>income_type</th>\n",
       "      <th>debt</th>\n",
       "      <th>total_income</th>\n",
       "      <th>purpose</th>\n",
       "      <th>purpose_cat</th>\n",
       "    </tr>\n",
       "  </thead>\n",
       "  <tbody>\n",
       "    <tr>\n",
       "      <th>2849</th>\n",
       "      <td>0</td>\n",
       "      <td>1203.369529</td>\n",
       "      <td>41</td>\n",
       "      <td>secondary education</td>\n",
       "      <td>1</td>\n",
       "      <td>married</td>\n",
       "      <td>0</td>\n",
       "      <td>F</td>\n",
       "      <td>employee</td>\n",
       "      <td>0</td>\n",
       "      <td>22815.1035</td>\n",
       "      <td>purchase of the house for my family</td>\n",
       "      <td>real estate</td>\n",
       "    </tr>\n",
       "    <tr>\n",
       "      <th>3290</th>\n",
       "      <td>0</td>\n",
       "      <td>1203.369529</td>\n",
       "      <td>58</td>\n",
       "      <td>secondary education</td>\n",
       "      <td>1</td>\n",
       "      <td>civil partnership</td>\n",
       "      <td>1</td>\n",
       "      <td>F</td>\n",
       "      <td>retiree</td>\n",
       "      <td>0</td>\n",
       "      <td>18962.3180</td>\n",
       "      <td>to have a wedding</td>\n",
       "      <td>wedding</td>\n",
       "    </tr>\n",
       "    <tr>\n",
       "      <th>4182</th>\n",
       "      <td>1</td>\n",
       "      <td>1203.369529</td>\n",
       "      <td>34</td>\n",
       "      <td>bachelor's degree</td>\n",
       "      <td>0</td>\n",
       "      <td>civil partnership</td>\n",
       "      <td>1</td>\n",
       "      <td>F</td>\n",
       "      <td>employee</td>\n",
       "      <td>0</td>\n",
       "      <td>22815.1035</td>\n",
       "      <td>wedding ceremony</td>\n",
       "      <td>wedding</td>\n",
       "    </tr>\n",
       "    <tr>\n",
       "      <th>4851</th>\n",
       "      <td>0</td>\n",
       "      <td>1203.369529</td>\n",
       "      <td>60</td>\n",
       "      <td>secondary education</td>\n",
       "      <td>1</td>\n",
       "      <td>civil partnership</td>\n",
       "      <td>1</td>\n",
       "      <td>F</td>\n",
       "      <td>retiree</td>\n",
       "      <td>0</td>\n",
       "      <td>18962.3180</td>\n",
       "      <td>wedding ceremony</td>\n",
       "      <td>wedding</td>\n",
       "    </tr>\n",
       "    <tr>\n",
       "      <th>5557</th>\n",
       "      <td>0</td>\n",
       "      <td>1203.369529</td>\n",
       "      <td>58</td>\n",
       "      <td>secondary education</td>\n",
       "      <td>1</td>\n",
       "      <td>civil partnership</td>\n",
       "      <td>1</td>\n",
       "      <td>F</td>\n",
       "      <td>retiree</td>\n",
       "      <td>0</td>\n",
       "      <td>18962.3180</td>\n",
       "      <td>to have a wedding</td>\n",
       "      <td>wedding</td>\n",
       "    </tr>\n",
       "    <tr>\n",
       "      <th>...</th>\n",
       "      <td>...</td>\n",
       "      <td>...</td>\n",
       "      <td>...</td>\n",
       "      <td>...</td>\n",
       "      <td>...</td>\n",
       "      <td>...</td>\n",
       "      <td>...</td>\n",
       "      <td>...</td>\n",
       "      <td>...</td>\n",
       "      <td>...</td>\n",
       "      <td>...</td>\n",
       "      <td>...</td>\n",
       "      <td>...</td>\n",
       "    </tr>\n",
       "    <tr>\n",
       "      <th>20702</th>\n",
       "      <td>0</td>\n",
       "      <td>1203.369529</td>\n",
       "      <td>64</td>\n",
       "      <td>secondary education</td>\n",
       "      <td>1</td>\n",
       "      <td>married</td>\n",
       "      <td>0</td>\n",
       "      <td>F</td>\n",
       "      <td>retiree</td>\n",
       "      <td>0</td>\n",
       "      <td>18962.3180</td>\n",
       "      <td>supplementary education</td>\n",
       "      <td>education</td>\n",
       "    </tr>\n",
       "    <tr>\n",
       "      <th>21032</th>\n",
       "      <td>0</td>\n",
       "      <td>1203.369529</td>\n",
       "      <td>60</td>\n",
       "      <td>secondary education</td>\n",
       "      <td>1</td>\n",
       "      <td>married</td>\n",
       "      <td>0</td>\n",
       "      <td>F</td>\n",
       "      <td>retiree</td>\n",
       "      <td>0</td>\n",
       "      <td>18962.3180</td>\n",
       "      <td>to become educated</td>\n",
       "      <td>education</td>\n",
       "    </tr>\n",
       "    <tr>\n",
       "      <th>21132</th>\n",
       "      <td>0</td>\n",
       "      <td>1203.369529</td>\n",
       "      <td>47</td>\n",
       "      <td>secondary education</td>\n",
       "      <td>1</td>\n",
       "      <td>married</td>\n",
       "      <td>0</td>\n",
       "      <td>F</td>\n",
       "      <td>employee</td>\n",
       "      <td>0</td>\n",
       "      <td>22815.1035</td>\n",
       "      <td>housing renovation</td>\n",
       "      <td>real estate</td>\n",
       "    </tr>\n",
       "    <tr>\n",
       "      <th>21281</th>\n",
       "      <td>1</td>\n",
       "      <td>1203.369529</td>\n",
       "      <td>30</td>\n",
       "      <td>bachelor's degree</td>\n",
       "      <td>0</td>\n",
       "      <td>married</td>\n",
       "      <td>0</td>\n",
       "      <td>F</td>\n",
       "      <td>employee</td>\n",
       "      <td>0</td>\n",
       "      <td>22815.1035</td>\n",
       "      <td>buy commercial real estate</td>\n",
       "      <td>real estate</td>\n",
       "    </tr>\n",
       "    <tr>\n",
       "      <th>21415</th>\n",
       "      <td>0</td>\n",
       "      <td>1203.369529</td>\n",
       "      <td>54</td>\n",
       "      <td>secondary education</td>\n",
       "      <td>1</td>\n",
       "      <td>married</td>\n",
       "      <td>0</td>\n",
       "      <td>F</td>\n",
       "      <td>retiree</td>\n",
       "      <td>0</td>\n",
       "      <td>18962.3180</td>\n",
       "      <td>housing transactions</td>\n",
       "      <td>real estate</td>\n",
       "    </tr>\n",
       "  </tbody>\n",
       "</table>\n",
       "<p>71 rows × 13 columns</p>\n",
       "</div>"
      ],
      "text/plain": [
       "       children  days_employed  dob_years            education  education_id  \\\n",
       "2849          0    1203.369529         41  secondary education             1   \n",
       "3290          0    1203.369529         58  secondary education             1   \n",
       "4182          1    1203.369529         34    bachelor's degree             0   \n",
       "4851          0    1203.369529         60  secondary education             1   \n",
       "5557          0    1203.369529         58  secondary education             1   \n",
       "...         ...            ...        ...                  ...           ...   \n",
       "20702         0    1203.369529         64  secondary education             1   \n",
       "21032         0    1203.369529         60  secondary education             1   \n",
       "21132         0    1203.369529         47  secondary education             1   \n",
       "21281         1    1203.369529         30    bachelor's degree             0   \n",
       "21415         0    1203.369529         54  secondary education             1   \n",
       "\n",
       "           family_status  family_status_id gender income_type  debt  \\\n",
       "2849             married                 0      F    employee     0   \n",
       "3290   civil partnership                 1      F     retiree     0   \n",
       "4182   civil partnership                 1      F    employee     0   \n",
       "4851   civil partnership                 1      F     retiree     0   \n",
       "5557   civil partnership                 1      F     retiree     0   \n",
       "...                  ...               ...    ...         ...   ...   \n",
       "20702            married                 0      F     retiree     0   \n",
       "21032            married                 0      F     retiree     0   \n",
       "21132            married                 0      F    employee     0   \n",
       "21281            married                 0      F    employee     0   \n",
       "21415            married                 0      F     retiree     0   \n",
       "\n",
       "       total_income                              purpose  purpose_cat  \n",
       "2849     22815.1035  purchase of the house for my family  real estate  \n",
       "3290     18962.3180                    to have a wedding      wedding  \n",
       "4182     22815.1035                     wedding ceremony      wedding  \n",
       "4851     18962.3180                     wedding ceremony      wedding  \n",
       "5557     18962.3180                    to have a wedding      wedding  \n",
       "...             ...                                  ...          ...  \n",
       "20702    18962.3180              supplementary education    education  \n",
       "21032    18962.3180                   to become educated    education  \n",
       "21132    22815.1035                   housing renovation  real estate  \n",
       "21281    22815.1035           buy commercial real estate  real estate  \n",
       "21415    18962.3180                 housing transactions  real estate  \n",
       "\n",
       "[71 rows x 13 columns]"
      ]
     },
     "execution_count": 66,
     "metadata": {},
     "output_type": "execute_result"
    }
   ],
   "source": [
    "credit_df[credit_df.duplicated()]\n",
    "\n",
    "#looking at the duplicates closer"
   ]
  },
  {
   "cell_type": "markdown",
   "id": "545aef07",
   "metadata": {},
   "source": [
    "Looks like we have some duplicate rows. Thinking as to why some of these might be duplicates, these are all rows where I filled total income and days employed with the median. But what are the chances that two people have the same number of children, same age, education level, family status, gender, income type, and debt values? It should be extremely rare, but 71 of 21525 is really rare. So this may be two people who just happen to lead very similar lives. The one difference is, that the purpose column looks like they had individuals type, and what are the chances that people type in the exact same response here? I'd say very very rare, and this is one column we did not alter in any way. Because of this, I believe these are actual duplicate entries, instead of just two people who live similar lives and will be dropping the duplicate rows."
   ]
  },
  {
   "cell_type": "code",
   "execution_count": 67,
   "id": "ac1d4d6f",
   "metadata": {},
   "outputs": [],
   "source": [
    "credit_df.drop_duplicates(inplace=True)\n",
    "\n",
    "#dropping duplicates"
   ]
  },
  {
   "cell_type": "code",
   "execution_count": 68,
   "id": "b15ef9a3",
   "metadata": {},
   "outputs": [
    {
     "data": {
      "text/plain": [
       "0"
      ]
     },
     "execution_count": 68,
     "metadata": {},
     "output_type": "execute_result"
    }
   ],
   "source": [
    "credit_df.duplicated().sum()\n",
    "\n",
    "#checking to see that all duplicates were taken care of"
   ]
  },
  {
   "cell_type": "markdown",
   "id": "70e392ad",
   "metadata": {},
   "source": [
    "## What we've done so far:"
   ]
  },
  {
   "cell_type": "markdown",
   "id": "7e23da86",
   "metadata": {},
   "source": [
    "Looks like there are no duplicates left, so the data should be ready for analysis! Let's quickly go over what was done:\n",
    "\n",
    "- Found null data in 'days_employed' and 'total_income' columns which accounted for about 10% of the total data, after coming to the conclusion that there was no pattern here, we filled these values with appropriate median values from the dataset\n",
    "- Saw that 16% of the values in 'days_employed' could not be real as they were beyond the lifespan of humans! Since these were outliers, we replaced these values with the median.\n",
    "- Saw that the values in 'days_employed' were all negative, and applied the abs() function to get the absolute values to make these values positive.\n",
    "- Saw that the 'gender' column had a value 'XNA' and so we dropped this one row\n",
    "- Found 101 entrees in the 'dob_years' column where users claimed to be 0 years old. This is clearly a mistake, no one under 18 can apply for a loan. We replaced these values with the rounded mean age, since there were no outliers.\n",
    "- Found that the categorical values in the 'education' has inconsistent cases, so we made them all lowercase.\n",
    "- Categorized the 'purpose' column into 4 categories, wedding, real estate, car, and education into new column 'purpose_cat'\n",
    "- The 'children' column 76 entries claiming to have 20 children, and 47 claiming to have -1 children, these were interpreted as mistakes and 2 was put in for 20, and 1 was put in for -1.\n",
    "- All other columns did not seem suspicious or wrong at all.\n",
    "- Dropped the rows that seemed to be duplicates."
   ]
  },
  {
   "cell_type": "markdown",
   "id": "cab0c229",
   "metadata": {},
   "source": [
    "# Categorizing the Data"
   ]
  },
  {
   "cell_type": "markdown",
   "id": "d8abb2b5",
   "metadata": {},
   "source": [
    "It's time to categorize the data!\n",
    "The questions we want to answer:\n",
    "- Is there a connection between having kids and repaying loans on time?\n",
    "\n",
    "In order to answer this question, we will compare the loan default rate to see if there's a correlation with how many children the client has.\n",
    "\n",
    "- Is there a connection between marital status and repaying loans on time?\n",
    "\n",
    "In order to answer this question, we will group the data by marital status\n",
    "\n",
    "- Is there a connection between income level and repaying loans on time?\n",
    "\n",
    "In order to answer this question, we will group the data by income level\n",
    "\n",
    "- How do different loan purposes affect on-time loan repayment?\n",
    "\n",
    "In order to answer this question, we will group the purposes\n",
    "\n",
    "Let's get started."
   ]
  },
  {
   "cell_type": "markdown",
   "id": "4f756eba",
   "metadata": {},
   "source": [
    "### Children and Defaulting on Loans"
   ]
  },
  {
   "cell_type": "code",
   "execution_count": 70,
   "id": "54b3d604",
   "metadata": {
    "scrolled": true
   },
   "outputs": [
    {
     "data": {
      "text/html": [
       "<div>\n",
       "<style scoped>\n",
       "    .dataframe tbody tr th:only-of-type {\n",
       "        vertical-align: middle;\n",
       "    }\n",
       "\n",
       "    .dataframe tbody tr th {\n",
       "        vertical-align: top;\n",
       "    }\n",
       "\n",
       "    .dataframe thead th {\n",
       "        text-align: right;\n",
       "    }\n",
       "</style>\n",
       "<table border=\"1\" class=\"dataframe\">\n",
       "  <thead>\n",
       "    <tr style=\"text-align: right;\">\n",
       "      <th></th>\n",
       "      <th>debt</th>\n",
       "    </tr>\n",
       "    <tr>\n",
       "      <th>children</th>\n",
       "      <th></th>\n",
       "    </tr>\n",
       "  </thead>\n",
       "  <tbody>\n",
       "    <tr>\n",
       "      <th>0</th>\n",
       "      <td>7.543822</td>\n",
       "    </tr>\n",
       "    <tr>\n",
       "      <th>1</th>\n",
       "      <td>9.165808</td>\n",
       "    </tr>\n",
       "    <tr>\n",
       "      <th>2</th>\n",
       "      <td>9.492481</td>\n",
       "    </tr>\n",
       "    <tr>\n",
       "      <th>3</th>\n",
       "      <td>8.181818</td>\n",
       "    </tr>\n",
       "    <tr>\n",
       "      <th>4</th>\n",
       "      <td>9.756098</td>\n",
       "    </tr>\n",
       "    <tr>\n",
       "      <th>5</th>\n",
       "      <td>0.000000</td>\n",
       "    </tr>\n",
       "  </tbody>\n",
       "</table>\n",
       "</div>"
      ],
      "text/plain": [
       "              debt\n",
       "children          \n",
       "0         7.543822\n",
       "1         9.165808\n",
       "2         9.492481\n",
       "3         8.181818\n",
       "4         9.756098\n",
       "5         0.000000"
      ]
     },
     "execution_count": 70,
     "metadata": {},
     "output_type": "execute_result"
    }
   ],
   "source": [
    "credit_df.pivot_table(index='children',values='debt',aggfunc='sum')/credit_df.pivot_table(index='children',values='debt',aggfunc='count')*100\n",
    "\n",
    "#pivot table with percentages on who has defaulted on loans compared to number of children they have"
   ]
  },
  {
   "cell_type": "markdown",
   "id": "d9d9391a",
   "metadata": {},
   "source": [
    "### Conclusion\n",
    "When looking at the data in the pivot table, it is clear that clients with no children have the least likelihood of defaulting on a loan. There doesn't seem to be a pattern on if the number of children effects the loan repayment rate, as the percentage for clients with 1 child is 9.2%, clients with 2 children at 9.5%, 3 children at 8.2%, and 4 children at 9.8%, whereas 5 children default rate is 0%. this last one is likely due to how few clients actually have 5 children."
   ]
  },
  {
   "cell_type": "markdown",
   "id": "c3719fe3",
   "metadata": {},
   "source": [
    "### Marital Status and Defaulting on Loans"
   ]
  },
  {
   "cell_type": "code",
   "execution_count": 72,
   "id": "f9b4b084",
   "metadata": {},
   "outputs": [
    {
     "data": {
      "text/plain": [
       "married              12339\n",
       "civil partnership     4151\n",
       "unmarried             2810\n",
       "divorced              1195\n",
       "widow / widower        959\n",
       "Name: family_status, dtype: int64"
      ]
     },
     "execution_count": 72,
     "metadata": {},
     "output_type": "execute_result"
    }
   ],
   "source": [
    "credit_df['family_status'].value_counts()\n",
    "\n",
    "#seeing distribution of family_status column"
   ]
  },
  {
   "cell_type": "markdown",
   "id": "0afd905f",
   "metadata": {},
   "source": [
    "We will separate these by those who are in a relationship (married/civil partnership) those who were in a relationship (divorced/widowed) and those who have never been in a relationship (unmarried)."
   ]
  },
  {
   "cell_type": "code",
   "execution_count": 73,
   "id": "80e73711",
   "metadata": {},
   "outputs": [
    {
     "data": {
      "text/html": [
       "<div>\n",
       "<style scoped>\n",
       "    .dataframe tbody tr th:only-of-type {\n",
       "        vertical-align: middle;\n",
       "    }\n",
       "\n",
       "    .dataframe tbody tr th {\n",
       "        vertical-align: top;\n",
       "    }\n",
       "\n",
       "    .dataframe thead th {\n",
       "        text-align: right;\n",
       "    }\n",
       "</style>\n",
       "<table border=\"1\" class=\"dataframe\">\n",
       "  <thead>\n",
       "    <tr style=\"text-align: right;\">\n",
       "      <th></th>\n",
       "      <th>debt</th>\n",
       "    </tr>\n",
       "    <tr>\n",
       "      <th>family_status</th>\n",
       "      <th></th>\n",
       "    </tr>\n",
       "  </thead>\n",
       "  <tbody>\n",
       "    <tr>\n",
       "      <th>civil partnership</th>\n",
       "      <td>9.347145</td>\n",
       "    </tr>\n",
       "    <tr>\n",
       "      <th>divorced</th>\n",
       "      <td>7.112971</td>\n",
       "    </tr>\n",
       "    <tr>\n",
       "      <th>married</th>\n",
       "      <td>7.545182</td>\n",
       "    </tr>\n",
       "    <tr>\n",
       "      <th>unmarried</th>\n",
       "      <td>9.750890</td>\n",
       "    </tr>\n",
       "    <tr>\n",
       "      <th>widow / widower</th>\n",
       "      <td>6.569343</td>\n",
       "    </tr>\n",
       "  </tbody>\n",
       "</table>\n",
       "</div>"
      ],
      "text/plain": [
       "                       debt\n",
       "family_status              \n",
       "civil partnership  9.347145\n",
       "divorced           7.112971\n",
       "married            7.545182\n",
       "unmarried          9.750890\n",
       "widow / widower    6.569343"
      ]
     },
     "execution_count": 73,
     "metadata": {},
     "output_type": "execute_result"
    }
   ],
   "source": [
    "credit_df.pivot_table(index='family_status',values='debt',aggfunc='sum')/credit_df.pivot_table(index='family_status',values='debt',aggfunc='count')*100\n",
    "\n",
    "#pivot table with percentages on who has defaulted on loans compared to their marital status"
   ]
  },
  {
   "cell_type": "markdown",
   "id": "d4e1131c",
   "metadata": {},
   "source": [
    "### Conclusion\n",
    "It looks like those who are unmarried have the highest rate of loan defaulting at 9.8%. The next closest is civil partnerships at 9.3%, and after that all other marital statuses have below a 7.6% loan default rate.\n",
    "Unmarried clients default on their loans more often than other marital statuses, including civil partnerships, divorces, widows, and married clients."
   ]
  },
  {
   "cell_type": "markdown",
   "id": "a3081957",
   "metadata": {},
   "source": [
    "### Total_income and defaulting on loans"
   ]
  },
  {
   "cell_type": "code",
   "execution_count": 74,
   "id": "17604818",
   "metadata": {},
   "outputs": [
    {
     "data": {
      "text/plain": [
       "count     21454.000000\n",
       "mean      26451.212929\n",
       "std       15709.968189\n",
       "min        3306.762000\n",
       "25%       17219.817250\n",
       "50%       22815.103500\n",
       "75%       31331.348000\n",
       "max      362496.645000\n",
       "Name: total_income, dtype: float64"
      ]
     },
     "execution_count": 74,
     "metadata": {},
     "output_type": "execute_result"
    }
   ],
   "source": [
    "credit_df['total_income'].describe()\n",
    "\n",
    "#seeing the distribution of the total income"
   ]
  },
  {
   "cell_type": "markdown",
   "id": "9522f592",
   "metadata": {},
   "source": [
    "We will separate the total income level be quantile. There will be a Low, Low Middle, High Middle, and High income groups"
   ]
  },
  {
   "cell_type": "code",
   "execution_count": 75,
   "id": "46aa6505",
   "metadata": {},
   "outputs": [],
   "source": [
    "first_quant = credit_df['total_income'].describe()[4]\n",
    "median = credit_df['total_income'].describe()[5]\n",
    "third_quant = credit_df['total_income'].describe()[6]"
   ]
  },
  {
   "cell_type": "code",
   "execution_count": 77,
   "id": "a72fc525",
   "metadata": {},
   "outputs": [],
   "source": [
    "#row function to make a column based on income levels\n",
    "\n",
    "def income_level(x):\n",
    "    if x <= first_quant:\n",
    "        return 'low'\n",
    "    elif first_quant < x <= median:\n",
    "        return 'low middle'\n",
    "    elif median < x <= third_quant:\n",
    "        return 'high middle'\n",
    "    elif x > third_quant:\n",
    "        return 'high'\n",
    "\n",
    "credit_df['income_level'] = credit_df['total_income'].apply(income_level)\n",
    "\n",
    "#applying the function by row"
   ]
  },
  {
   "cell_type": "code",
   "execution_count": 78,
   "id": "57b09374",
   "metadata": {},
   "outputs": [
    {
     "data": {
      "text/html": [
       "<div>\n",
       "<style scoped>\n",
       "    .dataframe tbody tr th:only-of-type {\n",
       "        vertical-align: middle;\n",
       "    }\n",
       "\n",
       "    .dataframe tbody tr th {\n",
       "        vertical-align: top;\n",
       "    }\n",
       "\n",
       "    .dataframe thead th {\n",
       "        text-align: right;\n",
       "    }\n",
       "</style>\n",
       "<table border=\"1\" class=\"dataframe\">\n",
       "  <thead>\n",
       "    <tr style=\"text-align: right;\">\n",
       "      <th></th>\n",
       "      <th>debt</th>\n",
       "    </tr>\n",
       "    <tr>\n",
       "      <th>income_level</th>\n",
       "      <th></th>\n",
       "    </tr>\n",
       "  </thead>\n",
       "  <tbody>\n",
       "    <tr>\n",
       "      <th>high</th>\n",
       "      <td>7.140194</td>\n",
       "    </tr>\n",
       "    <tr>\n",
       "      <th>high middle</th>\n",
       "      <td>8.538212</td>\n",
       "    </tr>\n",
       "    <tr>\n",
       "      <th>low</th>\n",
       "      <td>7.960477</td>\n",
       "    </tr>\n",
       "    <tr>\n",
       "      <th>low middle</th>\n",
       "      <td>8.815477</td>\n",
       "    </tr>\n",
       "  </tbody>\n",
       "</table>\n",
       "</div>"
      ],
      "text/plain": [
       "                  debt\n",
       "income_level          \n",
       "high          7.140194\n",
       "high middle   8.538212\n",
       "low           7.960477\n",
       "low middle    8.815477"
      ]
     },
     "execution_count": 78,
     "metadata": {},
     "output_type": "execute_result"
    }
   ],
   "source": [
    "credit_df.pivot_table(index='income_level',values='debt',aggfunc='sum')/credit_df.pivot_table(index='income_level',values='debt',aggfunc='count')*100\n",
    "\n",
    "#pivot table with percentages on who has defaulted on loans compared to their income level"
   ]
  },
  {
   "cell_type": "markdown",
   "id": "87dd5822",
   "metadata": {},
   "source": [
    "### Conclusion\n",
    "Looks like middle income earners tend to default on their loans more often than low income, or high income earners. This can be because low income earners most likely have trouble qualifying for loans to begin with, and high income earners make enough income that they can repay the loan. This is shown percentage-wise because low-middle and high-middle income classes default on loans at a rate of 8.8% and 8.5% respectively. Which is higher than both low income (8.0%) and high income (7.1%) percentages."
   ]
  },
  {
   "cell_type": "markdown",
   "id": "1a8ac19b",
   "metadata": {},
   "source": [
    "### Loan purpose and defaulting on loans"
   ]
  },
  {
   "cell_type": "markdown",
   "id": "75173e08",
   "metadata": {},
   "source": [
    "We have already separated the 'purpose' column into categories in the 'purpose_cat' column"
   ]
  },
  {
   "cell_type": "code",
   "execution_count": 79,
   "id": "09c95d29",
   "metadata": {},
   "outputs": [
    {
     "data": {
      "text/plain": [
       "real estate    10811\n",
       "car             4306\n",
       "education       4013\n",
       "wedding         2324\n",
       "Name: purpose_cat, dtype: int64"
      ]
     },
     "execution_count": 79,
     "metadata": {},
     "output_type": "execute_result"
    }
   ],
   "source": [
    "credit_df['purpose_cat'].value_counts()\n",
    "\n",
    "#checking distribution of purpose category column"
   ]
  },
  {
   "cell_type": "code",
   "execution_count": 80,
   "id": "f03b54d5",
   "metadata": {},
   "outputs": [
    {
     "data": {
      "text/html": [
       "<div>\n",
       "<style scoped>\n",
       "    .dataframe tbody tr th:only-of-type {\n",
       "        vertical-align: middle;\n",
       "    }\n",
       "\n",
       "    .dataframe tbody tr th {\n",
       "        vertical-align: top;\n",
       "    }\n",
       "\n",
       "    .dataframe thead th {\n",
       "        text-align: right;\n",
       "    }\n",
       "</style>\n",
       "<table border=\"1\" class=\"dataframe\">\n",
       "  <thead>\n",
       "    <tr style=\"text-align: right;\">\n",
       "      <th></th>\n",
       "      <th>debt</th>\n",
       "    </tr>\n",
       "    <tr>\n",
       "      <th>purpose_cat</th>\n",
       "      <th></th>\n",
       "    </tr>\n",
       "  </thead>\n",
       "  <tbody>\n",
       "    <tr>\n",
       "      <th>car</th>\n",
       "      <td>9.359034</td>\n",
       "    </tr>\n",
       "    <tr>\n",
       "      <th>education</th>\n",
       "      <td>9.220035</td>\n",
       "    </tr>\n",
       "    <tr>\n",
       "      <th>real estate</th>\n",
       "      <td>7.233373</td>\n",
       "    </tr>\n",
       "    <tr>\n",
       "      <th>wedding</th>\n",
       "      <td>8.003442</td>\n",
       "    </tr>\n",
       "  </tbody>\n",
       "</table>\n",
       "</div>"
      ],
      "text/plain": [
       "                 debt\n",
       "purpose_cat          \n",
       "car          9.359034\n",
       "education    9.220035\n",
       "real estate  7.233373\n",
       "wedding      8.003442"
      ]
     },
     "execution_count": 80,
     "metadata": {},
     "output_type": "execute_result"
    }
   ],
   "source": [
    "credit_df.pivot_table(index='purpose_cat',values='debt',aggfunc='sum')/credit_df.pivot_table(index='purpose_cat',values='debt',aggfunc='count')*100\n",
    "\n",
    "#pivot table with percentages on who has defaulted on loans compared to their purpose for applying for the loan"
   ]
  },
  {
   "cell_type": "markdown",
   "id": "2694be4d",
   "metadata": {},
   "source": [
    "### Conlcusion\n",
    "Those who take out a loan with the purpose of spending the money on a car have the highest rate of defaulting on their loan at 9.4%, followed by those who take out a loan for education at 9.2%, then by those who take out a loan for a wedding at 8.0% and finally by those who take out a loan for real estate at 7.2%"
   ]
  },
  {
   "cell_type": "markdown",
   "id": "f16e609d",
   "metadata": {},
   "source": [
    "### Final Thoughts\n",
    "\n",
    "According to our data:\n",
    "- Clients with children are more likely to default on their loans than clients without children.\n",
    "- Clients who are unmarried are more likely to default on their loans than clients in any other marital situation.\n",
    "- Clients who make between 17,000 and 22,000 are more likely to default on their loans than clients in other income ranges.\n",
    "- Clients who are taking out a loan for a car, are more likely to default on their loans than clients seeking loans for other reasons.\n",
    "\n",
    "The best loan candidate would:\n",
    "- Have no children\n",
    "- Be widowed\n",
    "- Make over 31,000 salary\n",
    "- Is looking to invest in real estate with the loan\n",
    "\n",
    "The worst loan candidate would:\n",
    "- Have 4 children\n",
    "- Be unmarried\n",
    "- Make between 17,000 and 22,000\n",
    "- Is looking to use the loan for a car"
   ]
  }
 ],
 "metadata": {
  "kernelspec": {
   "display_name": "Python 3 (ipykernel)",
   "language": "python",
   "name": "python3"
  },
  "language_info": {
   "codemirror_mode": {
    "name": "ipython",
    "version": 3
   },
   "file_extension": ".py",
   "mimetype": "text/x-python",
   "name": "python",
   "nbconvert_exporter": "python",
   "pygments_lexer": "ipython3",
   "version": "3.9.7"
  }
 },
 "nbformat": 4,
 "nbformat_minor": 5
}
